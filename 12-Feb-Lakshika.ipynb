{
 "cells": [
  {
   "cell_type": "code",
   "execution_count": 1,
   "id": "51603f01-d8aa-4fd5-8f63-fccf8c28f84e",
   "metadata": {},
   "outputs": [],
   "source": [
    "import logging\n",
    "logging.basicConfig(filename = 'logs.log', level = logging.INFO)"
   ]
  },
  {
   "cell_type": "markdown",
   "id": "565a16d6-c4e7-48fb-9a82-3fe3966c86f9",
   "metadata": {},
   "source": [
    "### 1. What is an Exception in python? Write the difference between Exceptions and Syantx errors."
   ]
  },
  {
   "cell_type": "raw",
   "id": "9f8be7b7-4f03-40e9-aed4-ffdff0f040cc",
   "metadata": {},
   "source": [
    "Exception gets raised when there is some type of error in the normal flow of program execution. \n",
    "\n",
    "Syntax errors are those which get raised if you have written anything wrong in the code syntax. Syntax error is a subset of Exceptions class, whereas Exceptions are the superset of Syntax error as it also includes other types of error like type error , runtime error etc."
   ]
  },
  {
   "cell_type": "markdown",
   "id": "59fc30dd-359b-4436-9019-2083c54f3668",
   "metadata": {},
   "source": [
    "<br>\n",
    "<br>\n",
    "\n",
    "### 2. What happens when an exception is not handled? Explain with an example."
   ]
  },
  {
   "cell_type": "raw",
   "id": "3f0fe084-6e1d-4cc1-acfe-f3a7b78ea6ae",
   "metadata": {},
   "source": [
    "When we don't handle an exception then it raises an error and stops the program from continue further. The Exception is not always about writing a wrong syntax but sometimes we get the error in runtime. Example : if we want to read a file and it doesn't exist than error will be raise that file does not exist or Found."
   ]
  },
  {
   "cell_type": "code",
   "execution_count": 2,
   "id": "d461c220-59e7-4295-b913-d9bd7de582ed",
   "metadata": {},
   "outputs": [
    {
     "ename": "FileNotFoundError",
     "evalue": "[Errno 2] No such file or directory: 'test_log.txt'",
     "output_type": "error",
     "traceback": [
      "\u001b[0;31m---------------------------------------------------------------------------\u001b[0m",
      "\u001b[0;31mFileNotFoundError\u001b[0m                         Traceback (most recent call last)",
      "Cell \u001b[0;32mIn[2], line 1\u001b[0m\n\u001b[0;32m----> 1\u001b[0m \u001b[38;5;28;01mwith\u001b[39;00m \u001b[38;5;28;43mopen\u001b[39;49m\u001b[43m(\u001b[49m\u001b[38;5;124;43m'\u001b[39;49m\u001b[38;5;124;43mtest_log.txt\u001b[39;49m\u001b[38;5;124;43m'\u001b[39;49m\u001b[43m,\u001b[49m\u001b[38;5;124;43m'\u001b[39;49m\u001b[38;5;124;43mr\u001b[39;49m\u001b[38;5;124;43m'\u001b[39;49m\u001b[43m)\u001b[49m \u001b[38;5;28;01mas\u001b[39;00m f:\n\u001b[1;32m      2\u001b[0m     f\u001b[38;5;241m.\u001b[39mread()\n",
      "File \u001b[0;32m/opt/conda/lib/python3.10/site-packages/IPython/core/interactiveshell.py:282\u001b[0m, in \u001b[0;36m_modified_open\u001b[0;34m(file, *args, **kwargs)\u001b[0m\n\u001b[1;32m    275\u001b[0m \u001b[38;5;28;01mif\u001b[39;00m file \u001b[38;5;129;01min\u001b[39;00m {\u001b[38;5;241m0\u001b[39m, \u001b[38;5;241m1\u001b[39m, \u001b[38;5;241m2\u001b[39m}:\n\u001b[1;32m    276\u001b[0m     \u001b[38;5;28;01mraise\u001b[39;00m \u001b[38;5;167;01mValueError\u001b[39;00m(\n\u001b[1;32m    277\u001b[0m         \u001b[38;5;124mf\u001b[39m\u001b[38;5;124m\"\u001b[39m\u001b[38;5;124mIPython won\u001b[39m\u001b[38;5;124m'\u001b[39m\u001b[38;5;124mt let you open fd=\u001b[39m\u001b[38;5;132;01m{\u001b[39;00mfile\u001b[38;5;132;01m}\u001b[39;00m\u001b[38;5;124m by default \u001b[39m\u001b[38;5;124m\"\u001b[39m\n\u001b[1;32m    278\u001b[0m         \u001b[38;5;124m\"\u001b[39m\u001b[38;5;124mas it is likely to crash IPython. If you know what you are doing, \u001b[39m\u001b[38;5;124m\"\u001b[39m\n\u001b[1;32m    279\u001b[0m         \u001b[38;5;124m\"\u001b[39m\u001b[38;5;124myou can use builtins\u001b[39m\u001b[38;5;124m'\u001b[39m\u001b[38;5;124m open.\u001b[39m\u001b[38;5;124m\"\u001b[39m\n\u001b[1;32m    280\u001b[0m     )\n\u001b[0;32m--> 282\u001b[0m \u001b[38;5;28;01mreturn\u001b[39;00m \u001b[43mio_open\u001b[49m\u001b[43m(\u001b[49m\u001b[43mfile\u001b[49m\u001b[43m,\u001b[49m\u001b[43m \u001b[49m\u001b[38;5;241;43m*\u001b[39;49m\u001b[43margs\u001b[49m\u001b[43m,\u001b[49m\u001b[43m \u001b[49m\u001b[38;5;241;43m*\u001b[39;49m\u001b[38;5;241;43m*\u001b[39;49m\u001b[43mkwargs\u001b[49m\u001b[43m)\u001b[49m\n",
      "\u001b[0;31mFileNotFoundError\u001b[0m: [Errno 2] No such file or directory: 'test_log.txt'"
     ]
    }
   ],
   "source": [
    "with open('test_log.txt','r') as f:\n",
    "    f.read()"
   ]
  },
  {
   "cell_type": "markdown",
   "id": "90ec7918-ee0e-4552-b581-5cdfb219698b",
   "metadata": {},
   "source": [
    "<br>\n",
    "<br>\n",
    "\n",
    "### 3. Which Python statements are used to catch and handle exceptions? Explain with an example."
   ]
  },
  {
   "cell_type": "raw",
   "id": "3a863da3-a7b2-4d1a-a210-5771fbda49c7",
   "metadata": {},
   "source": [
    "'try-except' is used to catch and handle exception . If we try to catch above error than we will write our code into the try block and except will do what we want to do if we get the error."
   ]
  },
  {
   "cell_type": "code",
   "execution_count": 3,
   "id": "d369e919-ed07-41c2-bdd1-dffec69db0be",
   "metadata": {},
   "outputs": [
    {
     "name": "stdout",
     "output_type": "stream",
     "text": [
      "[Errno 2] No such file or directory: 'test_log.txt'\n"
     ]
    }
   ],
   "source": [
    "try:\n",
    "    with open('test_log.txt','r') as f:\n",
    "        f.read()\n",
    "except Exception as e:\n",
    "    logging.error(e)\n",
    "    print(e)"
   ]
  },
  {
   "cell_type": "markdown",
   "id": "e142fcf8-ea38-4945-ac86-859927990d76",
   "metadata": {},
   "source": [
    "<br>\n",
    "<br>\n",
    "\n",
    "### 4. Explain with an example:\n",
    "a. try and else <br>\n",
    "b. finally <br>\n",
    "c. raise <br>"
   ]
  },
  {
   "cell_type": "code",
   "execution_count": 4,
   "id": "dd52d1ee-75de-4398-ba1a-c10e9b183ab4",
   "metadata": {},
   "outputs": [],
   "source": [
    "data = \"\"\"I want to become a Data Scientist.\\nI will become a Data Scientist.\\n \n",
    "I am a data scientist\"\"\"\n",
    "\n",
    "with open('test.txt', 'w') as f:\n",
    "    f.write(data)"
   ]
  },
  {
   "cell_type": "raw",
   "id": "16ff833d-343d-43e2-8459-8051ff8937fd",
   "metadata": {},
   "source": [
    "a. try and else : We use 'try-else' together, when we want to execute something after the block of code is executed completly without an error."
   ]
  },
  {
   "cell_type": "code",
   "execution_count": 5,
   "id": "ae816070-7138-4d3c-9bb8-91873f537a9b",
   "metadata": {},
   "outputs": [
    {
     "name": "stdout",
     "output_type": "stream",
     "text": [
      "File read successfully\n"
     ]
    }
   ],
   "source": [
    "try:\n",
    "    with open('test.txt','r') as f:\n",
    "        f.read()\n",
    "except Exception as e:\n",
    "    logging.error(e)\n",
    "    print(e)\n",
    "else:\n",
    "    logging.info(\"File read successfully\")\n",
    "    print(\"File read successfully\")"
   ]
  },
  {
   "cell_type": "code",
   "execution_count": 6,
   "id": "fccc7ca3-3a75-42c9-b854-f9366352b4fa",
   "metadata": {},
   "outputs": [
    {
     "name": "stdout",
     "output_type": "stream",
     "text": [
      "[Errno 2] No such file or directory: 'test_log.txt'\n"
     ]
    }
   ],
   "source": [
    "# else would not be executed because try block throwed an error\n",
    "try:\n",
    "    with open('test_log.txt','r') as f:\n",
    "        f.read()\n",
    "except Exception as e:\n",
    "    logging.error(e)\n",
    "    print(e)\n",
    "else:\n",
    "    logging.info(\"File read successfully\")\n",
    "    print(\"File read successfully\")"
   ]
  },
  {
   "cell_type": "markdown",
   "id": "ef9c50d4-c1b6-48e4-acd2-492118158b7e",
   "metadata": {},
   "source": [
    "<br>\n",
    "<br>"
   ]
  },
  {
   "cell_type": "raw",
   "id": "df92503d-be92-4088-89c9-7b4bba60032a",
   "metadata": {},
   "source": [
    "b. finally : we use finally when we want to execute something , regardless of whether an exception is thrown or not."
   ]
  },
  {
   "cell_type": "code",
   "execution_count": 7,
   "id": "42302a46-0fd9-42c1-b52a-afb3ba36f030",
   "metadata": {},
   "outputs": [
    {
     "name": "stdout",
     "output_type": "stream",
     "text": [
      "finally block executed\n"
     ]
    }
   ],
   "source": [
    "# Here 'try' will execute without any exception\n",
    "try:\n",
    "    with open('test.txt','r') as f:\n",
    "        f.read()\n",
    "except Exception as e:\n",
    "    logging.error(e)\n",
    "    print(e)\n",
    "finally:\n",
    "    logging.info(\"finally block executed\")\n",
    "    print(\"finally block executed\")"
   ]
  },
  {
   "cell_type": "code",
   "execution_count": 8,
   "id": "2bede377-a73b-41fe-9ce1-3f2e14467956",
   "metadata": {},
   "outputs": [
    {
     "name": "stdout",
     "output_type": "stream",
     "text": [
      "[Errno 2] No such file or directory: 'test_log.txt'\n",
      "finally block executed\n"
     ]
    }
   ],
   "source": [
    "# Here 'try' will throw an exception and still finally will execute\n",
    "try:\n",
    "    with open('test_log.txt','r') as f:\n",
    "        f.read()\n",
    "except Exception as e:\n",
    "    logging.error(e)\n",
    "    print(e)\n",
    "finally:\n",
    "    logging.info(\"finally block executed\")\n",
    "    print(\"finally block executed\")"
   ]
  },
  {
   "cell_type": "markdown",
   "id": "7704f9cb-0e6d-4ea1-bc30-994409eaca10",
   "metadata": {},
   "source": [
    "<br>\n",
    "<br>"
   ]
  },
  {
   "cell_type": "raw",
   "id": "56107c62-30f7-427e-8252-00c4a3d42aa6",
   "metadata": {},
   "source": [
    "c. raise : if we want to raise an custom exception message than we use 'raise' keyword"
   ]
  },
  {
   "cell_type": "code",
   "execution_count": 9,
   "id": "fb043acf-d5e4-4748-bf4a-712d3a5824a2",
   "metadata": {},
   "outputs": [],
   "source": [
    "class validateage(Exception):\n",
    "    \n",
    "    def __init__(self,msg):\n",
    "        self.msg = msg\n",
    "        \n",
    "def validateagefunc(age):\n",
    "    if age<0:\n",
    "        raise validateage(\"Sorry, Age can't be negative\")\n",
    "    elif age>200:\n",
    "        raise validateage(\"How are you still alive , sorry invalid age\")\n",
    "    else:\n",
    "        logging.info(\"Thanks for entering a valid age\")\n",
    "        print(\"Thanks for entering a valid age\")"
   ]
  },
  {
   "cell_type": "code",
   "execution_count": 10,
   "id": "3fb6b90f-10c9-4144-aed9-fa8e73778177",
   "metadata": {},
   "outputs": [
    {
     "name": "stdin",
     "output_type": "stream",
     "text": [
      "Enter the age :  213\n"
     ]
    },
    {
     "name": "stdout",
     "output_type": "stream",
     "text": [
      "How are you still alive , sorry invalid age\n"
     ]
    }
   ],
   "source": [
    "try:\n",
    "    age = int(input(\"Enter the age : \"))\n",
    "    validateagefunc(age)\n",
    "except validateage as v:\n",
    "    logging.error(v)\n",
    "    print(v)"
   ]
  },
  {
   "cell_type": "markdown",
   "id": "f83162f7-f963-433b-b126-0ebfade26ff3",
   "metadata": {},
   "source": [
    "<br>\n",
    "<br>\n",
    "\n",
    "### 5. What are Custom Exceptions in python? Why do we need Custom Exceptions? Explain with an example."
   ]
  },
  {
   "cell_type": "raw",
   "id": "4898a2ce-fbc6-4e15-910e-a0a0d954fb3a",
   "metadata": {},
   "source": [
    "So sometimes what seems or is an exception to us is not necessarily an exception to the system. Example if age is less than 0 that means thats invalid or exception but system takes it as valid. So at that time we create Custom Exceptions."
   ]
  },
  {
   "cell_type": "code",
   "execution_count": 11,
   "id": "dbc464f6-23c1-4efe-9318-5a14abddccd8",
   "metadata": {},
   "outputs": [],
   "source": [
    "class validateage(Exception):\n",
    "    \n",
    "    def __init__(self,msg):\n",
    "        self.msg = msg\n",
    "        \n",
    "def validateagefunc(age):\n",
    "    if age<0:\n",
    "        raise validateage(\"Sorry, Age can't be negative\")\n",
    "    elif age>200:\n",
    "        raise validateage(\"How are you still alive , sorry invalid age\")\n",
    "    else:\n",
    "        logging.info(\"Thanks for entering a valid age\")\n",
    "        print(\"Thanks for entering a valid age\")"
   ]
  },
  {
   "cell_type": "code",
   "execution_count": 12,
   "id": "dc0e5710-beff-4700-ab99-c0b2f4682a4a",
   "metadata": {},
   "outputs": [
    {
     "name": "stdin",
     "output_type": "stream",
     "text": [
      "Enter the age :  -34\n"
     ]
    },
    {
     "name": "stdout",
     "output_type": "stream",
     "text": [
      "Sorry, Age can't be negative\n"
     ]
    }
   ],
   "source": [
    "try:\n",
    "    age = int(input(\"Enter the age : \"))\n",
    "    validateagefunc(age)\n",
    "except validateage as v:\n",
    "    logging.error(v)\n",
    "    print(v)"
   ]
  },
  {
   "cell_type": "markdown",
   "id": "e083fa69-3bcd-47b8-9102-b11da40866b2",
   "metadata": {},
   "source": [
    "<br>\n",
    "<br>\n",
    "\n",
    "### 6. Create a custom exception class. Use this class to handle an exception."
   ]
  },
  {
   "cell_type": "code",
   "execution_count": 13,
   "id": "01de563c-cbcb-44ed-9639-cac0363a9905",
   "metadata": {},
   "outputs": [],
   "source": [
    "class validateage(Exception):\n",
    "    \n",
    "    def __init__(self,msg):\n",
    "        self.msg = msg\n",
    "        \n",
    "def validateagefunc(age):\n",
    "    if age<0:\n",
    "        raise validateage(\"Sorry, Age can't be negative\")\n",
    "    elif age>200:\n",
    "        raise validateage(\"How are you still alive , sorry invalid age\")\n",
    "    else:\n",
    "        logging.info(\"Thanks for entering a valid age\")\n",
    "        print(\"Thanks for entering a valid age\")"
   ]
  },
  {
   "cell_type": "code",
   "execution_count": 14,
   "id": "6c751d6e-d486-4ccd-826d-7c1e92d3fbdf",
   "metadata": {},
   "outputs": [
    {
     "name": "stdin",
     "output_type": "stream",
     "text": [
      "Enter the age :  213\n"
     ]
    },
    {
     "name": "stdout",
     "output_type": "stream",
     "text": [
      "How are you still alive , sorry invalid age\n"
     ]
    }
   ],
   "source": [
    "try:\n",
    "    age = int(input(\"Enter the age : \"))\n",
    "    validateagefunc(age)\n",
    "except validateage as v:\n",
    "    logging.error(v)\n",
    "    print(v)"
   ]
  }
 ],
 "metadata": {
  "kernelspec": {
   "display_name": "Python 3 (ipykernel)",
   "language": "python",
   "name": "python3"
  },
  "language_info": {
   "codemirror_mode": {
    "name": "ipython",
    "version": 3
   },
   "file_extension": ".py",
   "mimetype": "text/x-python",
   "name": "python",
   "nbconvert_exporter": "python",
   "pygments_lexer": "ipython3",
   "version": "3.10.8"
  }
 },
 "nbformat": 4,
 "nbformat_minor": 5
}
