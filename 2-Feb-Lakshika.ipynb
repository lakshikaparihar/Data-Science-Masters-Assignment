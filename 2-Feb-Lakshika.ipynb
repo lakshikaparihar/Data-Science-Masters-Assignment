{
 "cells": [
  {
   "cell_type": "markdown",
   "id": "b8e6e2e4-e1cc-4f98-b961-d3c8559ae521",
   "metadata": {},
   "source": [
    "### 1.Explain with an example each when to use a for loop and a while loop"
   ]
  },
  {
   "cell_type": "raw",
   "id": "2e68df68-5da5-4aeb-b604-857c52312c52",
   "metadata": {},
   "source": [
    "We Use for loop when the Number of times we need to execute the loop is known for example "
   ]
  },
  {
   "cell_type": "code",
   "execution_count": 1,
   "id": "e38694da-ef8d-439a-bf49-8947c9af70d1",
   "metadata": {},
   "outputs": [
    {
     "name": "stdout",
     "output_type": "stream",
     "text": [
      "1 4 9 16 25 36 49 64 81 100 121 144 169 196 225 256 289 324 361 400 "
     ]
    }
   ],
   "source": [
    "# Squares of first 20 natural numbers\n",
    "for i in range(1,21):\n",
    "    print(i**2,end=\" \")"
   ]
  },
  {
   "cell_type": "raw",
   "id": "98eed907-86f2-4479-b1d3-50b01611890d",
   "metadata": {},
   "source": [
    "When we don't know how many times the loop needs to be executed or when we need to run the loop until a condition is met, we use a while loop. Example:\n",
    "\n",
    "We Ask a number and we have to execute a block if the number is in between 0 and 10 so in this condition there is no particular range so we will write our code something like this \n"
   ]
  },
  {
   "cell_type": "code",
   "execution_count": 2,
   "id": "b725e813-b003-43a4-9e14-bc9de039a0c0",
   "metadata": {},
   "outputs": [
    {
     "name": "stdin",
     "output_type": "stream",
     "text": [
      " 6\n"
     ]
    }
   ],
   "source": [
    "num = int(input())\n",
    "while num>0 and num<10:\n",
    "        num/=2"
   ]
  },
  {
   "cell_type": "markdown",
   "id": "a1c0ca36-ebff-4450-b497-c492f6aba627",
   "metadata": {},
   "source": [
    "<br> \n",
    "<br>\n",
    "\n",
    "### 2. Write a python program to print the sum and product of the first 10 natural numbers using for and while loop"
   ]
  },
  {
   "cell_type": "code",
   "execution_count": 3,
   "id": "32d00f8d-bc03-40bb-b95b-611bbd2650a1",
   "metadata": {},
   "outputs": [
    {
     "name": "stdout",
     "output_type": "stream",
     "text": [
      "Sum of first 10 natural number using for loop is  55\n",
      "Product of first 10 natural number using for loop is  3628800\n"
     ]
    }
   ],
   "source": [
    "# Using for loop\n",
    "su = 0\n",
    "pro = 1\n",
    "\n",
    "for i in range(1,11):\n",
    "    su+=i\n",
    "    pro*=i\n",
    "    \n",
    "print(\"Sum of first 10 natural number using for loop is \",su)\n",
    "print(\"Product of first 10 natural number using for loop is \",pro)"
   ]
  },
  {
   "cell_type": "code",
   "execution_count": 4,
   "id": "6e9599cb-b563-400f-8591-d84dfecdeba3",
   "metadata": {},
   "outputs": [
    {
     "name": "stdout",
     "output_type": "stream",
     "text": [
      "Sum of first 10 natural number using for loop is  55\n",
      "Product of first 10 natural number using for loop is  3628800\n"
     ]
    }
   ],
   "source": [
    "# Using while loop\n",
    "su = 0\n",
    "pro = 1\n",
    "i=1\n",
    "\n",
    "while i<11:\n",
    "    su+=i\n",
    "    pro*=i\n",
    "    i+=1\n",
    "    \n",
    "print(\"Sum of first 10 natural number using for loop is \",su)\n",
    "print(\"Product of first 10 natural number using for loop is \",pro)"
   ]
  },
  {
   "cell_type": "markdown",
   "id": "3b6b1cd0-b9fc-438a-9c1a-ac29eaba71b0",
   "metadata": {},
   "source": [
    "<br> \n",
    "<br>\n",
    "\n",
    "### 3. Create a python program to compute the electricity bill for a household. <br>\n",
    "The per-unit charges in rupees are as follows: For the first 100 units , the user will be charged Rs 4.5 per unit, for the next 100 units, the user will be charged Rs. 6 per unit, and for the next 100 units, the user will be charged Rs.10 per unit, After 300 units and above the user will be charged Rs.20 per unit. <br>\n",
    "You are required to take the units of electricity consumed in a month from the user as input. <br>\n",
    "Your program must pass this test case: when the unit of electricity consumed by the user in a month is 310, the total electricity bill should be 2250"
   ]
  },
  {
   "cell_type": "code",
   "execution_count": 5,
   "id": "d1454c08-788c-4e69-b48f-62b064a845f5",
   "metadata": {},
   "outputs": [
    {
     "name": "stdin",
     "output_type": "stream",
     "text": [
      "Enter the units of electricity : \n",
      " 310\n"
     ]
    },
    {
     "name": "stdout",
     "output_type": "stream",
     "text": [
      "Total Electricity bill is Rs. 2250.0\n"
     ]
    }
   ],
   "source": [
    "units = int(input(\"Enter the units of electricity : \\n\"))\n",
    "bill = 0 \n",
    "rates = [4.5,6,10,20]\n",
    "\n",
    "for i in rates:\n",
    "    if units<100 or i==20:\n",
    "        bill+=(units*i)\n",
    "        break\n",
    "    else:\n",
    "        bill+=(100*i)\n",
    "        units-=100\n",
    "\n",
    "print(\"Total Electricity bill is Rs.\",bill)"
   ]
  },
  {
   "cell_type": "markdown",
   "id": "e72d42c1-7ac1-478c-a4c4-a04e3da2ca5f",
   "metadata": {},
   "source": [
    "<br>\n",
    "<br>\n",
    "\n",
    "### 4. Create a list of numbers from 1 to 100. Use for loop and while loop to calculate the cube of each number and if the cube of that number is divisible by 4 or 5 then append that number in a list and print that list"
   ]
  },
  {
   "cell_type": "code",
   "execution_count": 6,
   "id": "b9dfddb6-8c98-4e9e-a5b5-11a0789c6dc3",
   "metadata": {},
   "outputs": [
    {
     "name": "stdout",
     "output_type": "stream",
     "text": [
      "[2, 4, 5, 6, 8, 10, 12, 14, 15, 16, 18, 20, 22, 24, 25, 26, 28, 30, 32, 34, 35, 36, 38, 40, 42, 44, 45, 46, 48, 50, 52, 54, 55, 56, 58, 60, 62, 64, 65, 66, 68, 70, 72, 74, 75, 76, 78, 80, 82, 84, 85, 86, 88, 90, 92, 94, 95, 96, 98, 100]\n"
     ]
    }
   ],
   "source": [
    "num=[]\n",
    "for i in range(1,101):\n",
    "    num.append(i)\n",
    "\n",
    "output_list = []\n",
    "i=1\n",
    "while i<101:\n",
    "    cube = pow(i,3)\n",
    "    if cube%4==0 or cube%5==0:\n",
    "        output_list.append(i)\n",
    "    i+=1\n",
    "\n",
    "print(output_list)"
   ]
  },
  {
   "cell_type": "markdown",
   "id": "1a8b9b2e-7e45-4071-bbdf-ded9c06bfbe1",
   "metadata": {},
   "source": [
    "<br>\n",
    "<br>\n",
    "\n",
    "### 5. Write a program to filter count vowels in the below-given string. \n",
    "string = \"I want to become a data scientist\""
   ]
  },
  {
   "cell_type": "code",
   "execution_count": 7,
   "id": "4a18b1b9-18ef-4f06-86bd-5d08d1b2bfa8",
   "metadata": {},
   "outputs": [
    {
     "name": "stdout",
     "output_type": "stream",
     "text": [
      "Number of vowels in the string: 12\n"
     ]
    }
   ],
   "source": [
    "string = \"I want to become a data scientist\"\n",
    "vowels = \"aeiouAEIOU\"\n",
    "\n",
    "filtered_string = filter(lambda x: x in vowels, string)\n",
    "\n",
    "print(\"Number of vowels in the string:\", len(list(filtered_string)))"
   ]
  }
 ],
 "metadata": {
  "kernelspec": {
   "display_name": "Python 3 (ipykernel)",
   "language": "python",
   "name": "python3"
  },
  "language_info": {
   "codemirror_mode": {
    "name": "ipython",
    "version": 3
   },
   "file_extension": ".py",
   "mimetype": "text/x-python",
   "name": "python",
   "nbconvert_exporter": "python",
   "pygments_lexer": "ipython3",
   "version": "3.10.8"
  }
 },
 "nbformat": 4,
 "nbformat_minor": 5
}
