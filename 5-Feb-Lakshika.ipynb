{
 "cells": [
  {
   "cell_type": "markdown",
   "id": "34219f29-2eb9-4502-9bfa-3a9b808fad38",
   "metadata": {},
   "source": [
    "### 1. Explain Class and Object with respect to Object-Oriented Programming. Give a suitable example."
   ]
  },
  {
   "cell_type": "raw",
   "id": "3d76dfeb-577b-484f-be21-b79d2ca9ae88",
   "metadata": {},
   "source": [
    "Class is a blueprint of a real-world entitiy and the actual implemention or instance of class is known as object. \n",
    "\n",
    "Lets take an Real world example , suppost ball is a class then basketball , baseball , tennisball , etc can be considered as objects of the class . As you can see each type of balls(object) have their own attributes and use But the basic thing still remains the same that its a ball(class) which is round."
   ]
  },
  {
   "cell_type": "code",
   "execution_count": 5,
   "id": "43dfd22c-681f-4e1c-9036-1d2ec2df9f8f",
   "metadata": {},
   "outputs": [],
   "source": [
    "# this is the class\n",
    "class ball:\n",
    "    \n",
    "    def __init__(self,size,color):\n",
    "        self.size = size\n",
    "        self.color = color\n",
    "        \n",
    "    def details(self):\n",
    "        print(\"Ball is of\",self.size,\"inch and its color is\",self.color)\n",
    "\n",
    "# these are the objects of the class\n",
    "basketball = ball(29.5,\"orange\")\n",
    "baseball = ball(9.25,\"white\")"
   ]
  },
  {
   "cell_type": "raw",
   "id": "2fa30f0f-b273-46f0-9fc2-85e244606177",
   "metadata": {},
   "source": [
    "So we created two different instance or object of the class ball. As you can see above both basketball and baseball objects were created from the same blueprint or class. Now we will try to call the details of both to see that even they are from same class but both object has different individuality."
   ]
  },
  {
   "cell_type": "code",
   "execution_count": 4,
   "id": "bc4fdb9f-edcb-4fe5-a212-2ce3de7cf838",
   "metadata": {},
   "outputs": [
    {
     "name": "stdout",
     "output_type": "stream",
     "text": [
      "Ball is of 29.5 inch and its color is orange\n",
      "Ball is of 9.25 inch and its color is white\n"
     ]
    }
   ],
   "source": [
    "basketball.details()\n",
    "baseball.details()"
   ]
  },
  {
   "cell_type": "markdown",
   "id": "68ac3cd8-55f0-4ba3-a7a9-4fcf1ed18c01",
   "metadata": {},
   "source": [
    "<br>\n",
    "<br>\n",
    "\n",
    "### 2. Name the four pillars of OOPs."
   ]
  },
  {
   "cell_type": "raw",
   "id": "5e35ee86-391d-48d8-8aad-7c667d15560d",
   "metadata": {},
   "source": [
    "Four Pillar of OOPs are:\n",
    "1. Inheritance (To inherit property)\n",
    "2. Polymorphism (To have many forms)\n",
    "3. Encapsulation (To package method and attributes)\n",
    "4. Abstraction (To have privacy or not reveal everything)"
   ]
  },
  {
   "cell_type": "markdown",
   "id": "84caac55-5f7d-4f64-b280-122cd556c1a2",
   "metadata": {},
   "source": [
    "<br>\n",
    "<br>\n",
    "\n",
    "### 3. Explain why the __init__() function is used. Give a suitable example."
   ]
  },
  {
   "cell_type": "raw",
   "id": "c5f1a063-ecb6-4b80-9976-588f00f550bd",
   "metadata": {},
   "source": [
    "In OOPs there is a special function which class have known as constructor , which get invoked automatically when we create an object. In python we call this function init()"
   ]
  },
  {
   "cell_type": "code",
   "execution_count": 5,
   "id": "0214f1c8-722c-46ff-9360-1019e1934cf5",
   "metadata": {},
   "outputs": [],
   "source": [
    "# this is the class\n",
    "class ball:\n",
    "    \n",
    "    def __init__(self,size,color):\n",
    "        self.size = size\n",
    "        self.color = color\n",
    "        \n",
    "    def details(self):\n",
    "        print(\"Ball is of\",self.size,\"inch and its color is\",self.color)\n",
    "\n",
    "# these are the objects of the class\n",
    "basketball = ball(29.5,\"orange\")\n",
    "baseball = ball(9.25,\"white\")"
   ]
  },
  {
   "cell_type": "raw",
   "id": "62ace59f-393d-4869-aeb0-d70692ac3772",
   "metadata": {},
   "source": [
    "So above when we will create an object basketball than the function __init__ will be called automatically and the parameter will be passed to it and it will assign it to the class variables."
   ]
  },
  {
   "cell_type": "markdown",
   "id": "131f5ef4-d31b-45cc-86df-8cc736405b8b",
   "metadata": {},
   "source": [
    "<br>\n",
    "<br>\n",
    "\n",
    "### 4. Why self is used in OOPs?"
   ]
  },
  {
   "cell_type": "raw",
   "id": "aff3fdca-7969-4e60-b3bf-b931eb291f66",
   "metadata": {},
   "source": [
    "To bind a function to a class or to let know a class that the function belongs to it , we use self as the first parameter. Now once the class know that the variables or functions belongs to it then to acess them inside the class we would require the self keyword and outside the class using object or instance."
   ]
  },
  {
   "cell_type": "code",
   "execution_count": 7,
   "id": "8c95c5a9-a407-4200-82e5-4caaf828ab71",
   "metadata": {},
   "outputs": [],
   "source": [
    "class ball:\n",
    "    \n",
    "    def __init__(self,size,color):\n",
    "        self.size = size\n",
    "        self.color = color\n",
    "        \n",
    "    def details(self):\n",
    "        print(\"Ball is of\",self.size,\"inch and its color is\",self.color)\n",
    "        \n",
    "basketball = ball(29.5,\"orange\")\n",
    "baseball = ball(9.25,\"white\")"
   ]
  },
  {
   "cell_type": "raw",
   "id": "15652500-e998-43df-b006-f0790efcc4f3",
   "metadata": {},
   "source": [
    "As you can see above we are accessing the class variable using self inside the class and outside the class we will access them using the object name baskeball or baseball"
   ]
  },
  {
   "cell_type": "code",
   "execution_count": 9,
   "id": "865feb5c-d4c0-4f24-a86c-028913ddbd2c",
   "metadata": {},
   "outputs": [
    {
     "name": "stdout",
     "output_type": "stream",
     "text": [
      "orange\n",
      "white\n"
     ]
    }
   ],
   "source": [
    "print(basketball.color)\n",
    "print(baseball.color)"
   ]
  },
  {
   "cell_type": "markdown",
   "id": "a26553b5-2738-4a77-84fb-b1b500545dd1",
   "metadata": {},
   "source": [
    "<br>\n",
    "<br>\n",
    "\n",
    "### 5. What is inheritance? Give an example for each type of inheritance."
   ]
  },
  {
   "cell_type": "raw",
   "id": "a6cf9ede-87cf-4461-945f-7df8a8ed8b3c",
   "metadata": {},
   "source": [
    "When one class inherit or reuse the methods and attributes of another class without creating it again then it is known as inheritance. The class by which the properties are being inheriting is known as parent classs and the class which is inheriting the properties is known as child class.\n",
    "\n",
    "Syntax : class child_class(parent_class)\n",
    "\n",
    "To get the better understanding of types of inheritance , Lets take 3 classes A,B ,C and D. \n",
    "\n",
    "Type of inheritance :\n",
    "\n",
    "1. Single Inheritance : When there is only 1 parent for a child class and vice-versa , Its is known as Single Inheritance.\n",
    "\n",
    "                        classA           classB\n",
    "                          |                |\n",
    "                        classC           classD\n",
    "                        \n",
    "                        \n",
    "2. Multilevel Inheritance : When classA is inherited by classB and classB is inherited by classC , so now classC can access the property of classB (parent class) as well classA (parent of parent class). This is known as multilevel inheritance.\n",
    "\n",
    "                        classA\n",
    "                          |\n",
    "                        classB\n",
    "                          |\n",
    "                        classC\n",
    "\n",
    "\n",
    "3. Multiple Inheritance : When classA and classB both are inherited by classC . Then it is known as Multiple inheritance bascially 1 child has multiple parents.\n",
    "\n",
    "Syntax: class classC(classA , classB)\n",
    "\n",
    "                classA        classB\n",
    "                    \\           /\n",
    "                     \\         /\n",
    "                      \\       /\n",
    "                        classC\n",
    "\n",
    "\n",
    "4. Hierarchical Inheritance : When we get a tree like structure , Assume classA has two child classB and classC. Further classB and classC both have two children - classD and classE; classF and classG respectively. It is known as heirarchical Inheritance.\n",
    "\n",
    "                   classA        \n",
    "                    /   \\           \n",
    "                   /     \\         \n",
    "                  /       \\       \n",
    "              classB     classC\n",
    "               / \\         / \\      \n",
    "              /   \\       /   \\    \n",
    "             /     \\     /     \\\n",
    "        classD classE classF  classG\n",
    "        \n",
    "5. Hybrid Inheritance : When there is a combination of more than one inheritance metioned above than it is known as Hybrid Inheritance. In the below diagram we can see the combination of herarchical and multiple inheritance\n",
    "\n",
    "                   classA      classH   \n",
    "                    /   \\        /\n",
    "                   /     \\      / \n",
    "                  /       \\    / \n",
    "              classB      classC\n",
    "               / \\          / \\      \n",
    "              /   \\        /   \\    \n",
    "             /     \\      /     \\\n",
    "        classD classE  classF  classG   \n",
    "        "
   ]
  }
 ],
 "metadata": {
  "kernelspec": {
   "display_name": "Python 3 (ipykernel)",
   "language": "python",
   "name": "python3"
  },
  "language_info": {
   "codemirror_mode": {
    "name": "ipython",
    "version": 3
   },
   "file_extension": ".py",
   "mimetype": "text/x-python",
   "name": "python",
   "nbconvert_exporter": "python",
   "pygments_lexer": "ipython3",
   "version": "3.10.8"
  }
 },
 "nbformat": 4,
 "nbformat_minor": 5
}
