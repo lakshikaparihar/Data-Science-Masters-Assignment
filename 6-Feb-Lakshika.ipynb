{
 "cells": [
  {
   "cell_type": "markdown",
   "id": "20f1f851-2d96-4211-9b22-d9a6f2030d5b",
   "metadata": {},
   "source": [
    "### 1. Create a function which will take a list as an argument and return the product of all the numbers after creating a flat list. Use the below-given list as an argument for your function.\n",
    "\n",
    "list1 = [1,2,3,4, [44,55,66, True], False, (34,56,78,89,34), {1,2,3,3,2,1}, {1:34, \"key2\": [55, 67, 78, 89], 4: (45,\n",
    "22, 61, 34)}, [56, 'data science'], 'Machine Learning']\n",
    "\n",
    "Note: you must extract numeric keys and values of the dictionary also."
   ]
  },
  {
   "cell_type": "code",
   "execution_count": 54,
   "id": "bf74ebf9-b7be-4501-8a53-4475e19b16b3",
   "metadata": {},
   "outputs": [
    {
     "name": "stdout",
     "output_type": "stream",
     "text": [
      "4134711838987085478833841242112000\n"
     ]
    }
   ],
   "source": [
    "from functools import reduce\n",
    "\n",
    "def product(listparam):\n",
    "    product=1\n",
    "    flat_list = []\n",
    "    for i in listparam:\n",
    "        if type(i) in [list, tuple, set]:\n",
    "            for j in i:\n",
    "                flat_list.append(j)\n",
    "        elif type(i) is dict:\n",
    "            for k,v in i.items():\n",
    "                flat_list.append(k)\n",
    "                if type(v) in [list, tuple, set]:\n",
    "                    for t in v:\n",
    "                        flat_list.append(t)\n",
    "                else:\n",
    "                    flat_list.append(v)                    \n",
    "        else:\n",
    "            flat_list.append(i)\n",
    "                    \n",
    "    flat_list = list(filter(lambda x: type(x) is int,flat_list))\n",
    "    product = reduce(lambda x,y:x*y,flat_list)\n",
    "    return product\n",
    "\n",
    "\n",
    "l = [1,2,3,4, [44,55,66, True], False, (34,56,78,89,34), {1,2,3,3,2,1}, {1:34, \"key2\": [55, 67, 78, 89], 4: (45, 22, 61, 34)}, [56, 'data science'], 'Machine Learning']\n",
    "print(product(l))"
   ]
  },
  {
   "cell_type": "markdown",
   "id": "7c9ded0a-3352-4602-a024-81d180e1f3ec",
   "metadata": {},
   "source": [
    "<br>\n",
    "<br>\n",
    "\n",
    "### 2. Write a python program for encrypting a message sent to you by your friend. The logic of encryption should be such that, for a the output should be z. For b, the output should be y. For c, the output should be x respectively. Also, the whitespace should be replaced with a dollar sign. Keep the punctuation marks unchanged.\n",
    "\n",
    "Input Sentence: I want to become a Data Scientist. <br>\n",
    "Encrypt the above input sentence using the program you just created.\n",
    "\n",
    "Note: Convert the given input sentence into lowercase before encrypting. The final output should be\n",
    "lowercase."
   ]
  },
  {
   "cell_type": "code",
   "execution_count": 67,
   "id": "ce93b237-f734-4835-9be1-1cb79fd86614",
   "metadata": {},
   "outputs": [
    {
     "name": "stdout",
     "output_type": "stream",
     "text": [
      "Message sent by the friend :  r$dzmg$gl$yvxlnv$z$wzgz$hxrvmgrhg.\n"
     ]
    }
   ],
   "source": [
    "msg = \"I want to become a Data Scientist.\"\n",
    "encrypted_msg = \"\"\n",
    "\n",
    "for i in msg.lower(): \n",
    "    if i.isalpha():\n",
    "        encrypted_msg+= chr(abs(123-(ord(i)-96)))\n",
    "    elif i==\" \":\n",
    "        encrypted_msg+=\"$\"\n",
    "    else:\n",
    "        encrypted_msg+=i\n",
    "\n",
    "print(\"Message sent by the friend : \",encrypted_msg)"
   ]
  }
 ],
 "metadata": {
  "kernelspec": {
   "display_name": "Python 3 (ipykernel)",
   "language": "python",
   "name": "python3"
  },
  "language_info": {
   "codemirror_mode": {
    "name": "ipython",
    "version": 3
   },
   "file_extension": ".py",
   "mimetype": "text/x-python",
   "name": "python",
   "nbconvert_exporter": "python",
   "pygments_lexer": "ipython3",
   "version": "3.10.8"
  }
 },
 "nbformat": 4,
 "nbformat_minor": 5
}
