{
 "cells": [
  {
   "cell_type": "markdown",
   "id": "9f6a4cf1-b1ec-4842-9f66-607ca9bb68a0",
   "metadata": {},
   "source": [
    "### 1. What are the three measures of central tendency ?"
   ]
  },
  {
   "cell_type": "markdown",
   "id": "21ed43cb-b3e7-4ee6-a86d-7ab6eb257426",
   "metadata": {},
   "source": [
    "Three measure of central tendency are :\n",
    "1. mean\n",
    "2. median\n",
    "3. mode"
   ]
  },
  {
   "cell_type": "markdown",
   "id": "d07807a3-a308-4285-942c-c23ec884483a",
   "metadata": {},
   "source": [
    "<br>\n",
    "<br>\n",
    "\n",
    "### 2. What is the difference between the mean, median, and mode? How are they used to measure the central tendency of a dataset?"
   ]
  },
  {
   "cell_type": "markdown",
   "id": "139f8ca0-4675-4869-9e62-60eb298335dd",
   "metadata": {},
   "source": [
    "i) mean : to find the average or central region of a column.\n",
    "ii) median : to find the centre element of a column. and mostly used for handling outliers.\n",
    "iii) mode : returns the most frequent data in the column."
   ]
  },
  {
   "cell_type": "code",
   "execution_count": 2,
   "id": "8082f0b9-26e4-4bf3-af9a-cbd3d0289d37",
   "metadata": {},
   "outputs": [
    {
     "data": {
      "text/html": [
       "<div>\n",
       "<style scoped>\n",
       "    .dataframe tbody tr th:only-of-type {\n",
       "        vertical-align: middle;\n",
       "    }\n",
       "\n",
       "    .dataframe tbody tr th {\n",
       "        vertical-align: top;\n",
       "    }\n",
       "\n",
       "    .dataframe thead th {\n",
       "        text-align: right;\n",
       "    }\n",
       "</style>\n",
       "<table border=\"1\" class=\"dataframe\">\n",
       "  <thead>\n",
       "    <tr style=\"text-align: right;\">\n",
       "      <th></th>\n",
       "      <th>survived</th>\n",
       "      <th>pclass</th>\n",
       "      <th>sex</th>\n",
       "      <th>age</th>\n",
       "      <th>sibsp</th>\n",
       "      <th>parch</th>\n",
       "      <th>fare</th>\n",
       "      <th>embarked</th>\n",
       "      <th>class</th>\n",
       "      <th>who</th>\n",
       "      <th>adult_male</th>\n",
       "      <th>deck</th>\n",
       "      <th>embark_town</th>\n",
       "      <th>alive</th>\n",
       "      <th>alone</th>\n",
       "    </tr>\n",
       "  </thead>\n",
       "  <tbody>\n",
       "    <tr>\n",
       "      <th>0</th>\n",
       "      <td>0</td>\n",
       "      <td>3</td>\n",
       "      <td>male</td>\n",
       "      <td>22.0</td>\n",
       "      <td>1</td>\n",
       "      <td>0</td>\n",
       "      <td>7.2500</td>\n",
       "      <td>S</td>\n",
       "      <td>Third</td>\n",
       "      <td>man</td>\n",
       "      <td>True</td>\n",
       "      <td>NaN</td>\n",
       "      <td>Southampton</td>\n",
       "      <td>no</td>\n",
       "      <td>False</td>\n",
       "    </tr>\n",
       "    <tr>\n",
       "      <th>1</th>\n",
       "      <td>1</td>\n",
       "      <td>1</td>\n",
       "      <td>female</td>\n",
       "      <td>38.0</td>\n",
       "      <td>1</td>\n",
       "      <td>0</td>\n",
       "      <td>71.2833</td>\n",
       "      <td>C</td>\n",
       "      <td>First</td>\n",
       "      <td>woman</td>\n",
       "      <td>False</td>\n",
       "      <td>C</td>\n",
       "      <td>Cherbourg</td>\n",
       "      <td>yes</td>\n",
       "      <td>False</td>\n",
       "    </tr>\n",
       "    <tr>\n",
       "      <th>2</th>\n",
       "      <td>1</td>\n",
       "      <td>3</td>\n",
       "      <td>female</td>\n",
       "      <td>26.0</td>\n",
       "      <td>0</td>\n",
       "      <td>0</td>\n",
       "      <td>7.9250</td>\n",
       "      <td>S</td>\n",
       "      <td>Third</td>\n",
       "      <td>woman</td>\n",
       "      <td>False</td>\n",
       "      <td>NaN</td>\n",
       "      <td>Southampton</td>\n",
       "      <td>yes</td>\n",
       "      <td>True</td>\n",
       "    </tr>\n",
       "    <tr>\n",
       "      <th>3</th>\n",
       "      <td>1</td>\n",
       "      <td>1</td>\n",
       "      <td>female</td>\n",
       "      <td>35.0</td>\n",
       "      <td>1</td>\n",
       "      <td>0</td>\n",
       "      <td>53.1000</td>\n",
       "      <td>S</td>\n",
       "      <td>First</td>\n",
       "      <td>woman</td>\n",
       "      <td>False</td>\n",
       "      <td>C</td>\n",
       "      <td>Southampton</td>\n",
       "      <td>yes</td>\n",
       "      <td>False</td>\n",
       "    </tr>\n",
       "    <tr>\n",
       "      <th>4</th>\n",
       "      <td>0</td>\n",
       "      <td>3</td>\n",
       "      <td>male</td>\n",
       "      <td>35.0</td>\n",
       "      <td>0</td>\n",
       "      <td>0</td>\n",
       "      <td>8.0500</td>\n",
       "      <td>S</td>\n",
       "      <td>Third</td>\n",
       "      <td>man</td>\n",
       "      <td>True</td>\n",
       "      <td>NaN</td>\n",
       "      <td>Southampton</td>\n",
       "      <td>no</td>\n",
       "      <td>True</td>\n",
       "    </tr>\n",
       "  </tbody>\n",
       "</table>\n",
       "</div>"
      ],
      "text/plain": [
       "   survived  pclass     sex   age  sibsp  parch     fare embarked  class  \\\n",
       "0         0       3    male  22.0      1      0   7.2500        S  Third   \n",
       "1         1       1  female  38.0      1      0  71.2833        C  First   \n",
       "2         1       3  female  26.0      0      0   7.9250        S  Third   \n",
       "3         1       1  female  35.0      1      0  53.1000        S  First   \n",
       "4         0       3    male  35.0      0      0   8.0500        S  Third   \n",
       "\n",
       "     who  adult_male deck  embark_town alive  alone  \n",
       "0    man        True  NaN  Southampton    no  False  \n",
       "1  woman       False    C    Cherbourg   yes  False  \n",
       "2  woman       False  NaN  Southampton   yes   True  \n",
       "3  woman       False    C  Southampton   yes  False  \n",
       "4    man        True  NaN  Southampton    no   True  "
      ]
     },
     "execution_count": 2,
     "metadata": {},
     "output_type": "execute_result"
    }
   ],
   "source": [
    "import seaborn as sns\n",
    "import numpy as np\n",
    "\n",
    "titanic = sns.load_dataset('titanic')\n",
    "titanic.head()"
   ]
  },
  {
   "cell_type": "code",
   "execution_count": 3,
   "id": "e5f43c27-1714-4d6b-9783-74c4ab4bbd39",
   "metadata": {},
   "outputs": [
    {
     "data": {
      "text/plain": [
       "32.204207968574636"
      ]
     },
     "execution_count": 3,
     "metadata": {},
     "output_type": "execute_result"
    }
   ],
   "source": [
    "np.mean(titanic['fare'])"
   ]
  },
  {
   "cell_type": "code",
   "execution_count": 4,
   "id": "6c6e4839-abd2-4846-b4f1-682f77119352",
   "metadata": {},
   "outputs": [
    {
     "data": {
      "text/plain": [
       "14.4542"
      ]
     },
     "execution_count": 4,
     "metadata": {},
     "output_type": "execute_result"
    }
   ],
   "source": [
    "np.median(titanic['fare'].sort_values())"
   ]
  },
  {
   "cell_type": "code",
   "execution_count": 5,
   "id": "8c296c39-0f18-45d0-90fd-872c97e87e70",
   "metadata": {},
   "outputs": [
    {
     "data": {
      "text/plain": [
       "8.05"
      ]
     },
     "execution_count": 5,
     "metadata": {},
     "output_type": "execute_result"
    }
   ],
   "source": [
    "import statistics as stat\n",
    "stat.mode(titanic['fare'])"
   ]
  },
  {
   "cell_type": "markdown",
   "id": "b0a3c2d9-ed69-4b76-8482-b0692f7ea924",
   "metadata": {},
   "source": [
    "<br>\n",
    "<br>\n",
    "\n",
    "### 3. Measure the three measures of central tendency for the given height data:"
   ]
  },
  {
   "cell_type": "code",
   "execution_count": 6,
   "id": "af8a747f-414b-4e24-b94a-ff41323e09ba",
   "metadata": {},
   "outputs": [],
   "source": [
    "data = [178,177,176,177,178.2,178,175,179,180,175,178.9,176.2,177,172.5,178,176.5]"
   ]
  },
  {
   "cell_type": "code",
   "execution_count": 7,
   "id": "af92db26-da10-4845-96ee-4624f7f66969",
   "metadata": {},
   "outputs": [
    {
     "data": {
      "text/plain": [
       "177.01875"
      ]
     },
     "execution_count": 7,
     "metadata": {},
     "output_type": "execute_result"
    }
   ],
   "source": [
    "np.mean(data)"
   ]
  },
  {
   "cell_type": "code",
   "execution_count": 8,
   "id": "f6c5c03f-b771-4a9d-be3d-af1dab4a4bbe",
   "metadata": {},
   "outputs": [
    {
     "data": {
      "text/plain": [
       "177.0"
      ]
     },
     "execution_count": 8,
     "metadata": {},
     "output_type": "execute_result"
    }
   ],
   "source": [
    "np.median(sorted(data))"
   ]
  },
  {
   "cell_type": "code",
   "execution_count": 9,
   "id": "42a6fab1-f2c1-4f74-a33d-51d0519d8313",
   "metadata": {},
   "outputs": [
    {
     "data": {
      "text/plain": [
       "178"
      ]
     },
     "execution_count": 9,
     "metadata": {},
     "output_type": "execute_result"
    }
   ],
   "source": [
    "stat.mode(data)"
   ]
  },
  {
   "cell_type": "markdown",
   "id": "d04f2cd5-55f0-44d0-885b-835c0bad93be",
   "metadata": {},
   "source": [
    "<br>\n",
    "<br>\n",
    "\n",
    "### 4. Find the standard deviation for the given data:"
   ]
  },
  {
   "cell_type": "code",
   "execution_count": 10,
   "id": "2d1c6c65-8a3c-43df-97cf-8e0f815e276e",
   "metadata": {},
   "outputs": [
    {
     "data": {
      "text/plain": [
       "1.7885814036548633"
      ]
     },
     "execution_count": 10,
     "metadata": {},
     "output_type": "execute_result"
    }
   ],
   "source": [
    "data1 = [178,177,176,177,178.2,178,175,179,180,175,178.9,176.2,177,172.5,178,176.5]\n",
    "np.std(data1)"
   ]
  },
  {
   "cell_type": "markdown",
   "id": "47fe8633-5b8d-43c9-a90f-07cdd9d3d09d",
   "metadata": {},
   "source": [
    "<br>\n",
    "<br>\n",
    "\n",
    "### 5. How are measures of dispersion such as range, variance, and standard deviation used to describe the spread of a dataset? Provide an example."
   ]
  },
  {
   "cell_type": "markdown",
   "id": "6ed44532-ddd7-4b9f-9a71-1d9dea545c42",
   "metadata": {},
   "source": [
    "As we already know we get the centre of dataset by central tendency, so by finding the distance of each data point from the centre and putting in different formulas we can get the spread of a dataset.\n",
    "\n",
    "Example : Formula for variance is \n",
    "                Σ ( data point - mean )^2\n",
    "                -------------------------\n",
    "                            n\n",
    "                            \n",
    "         Formula for standard-deviation is :\n",
    "              √ variance"
   ]
  },
  {
   "cell_type": "code",
   "execution_count": 11,
   "id": "16aab4f2-f609-4a50-b25f-a4bdaf912470",
   "metadata": {},
   "outputs": [
    {
     "data": {
      "text/plain": [
       "1.7885814036548633"
      ]
     },
     "execution_count": 11,
     "metadata": {},
     "output_type": "execute_result"
    }
   ],
   "source": [
    "data1 = [178,177,176,177,178.2,178,175,179,180,175,178.9,176.2,177,172.5,178,176.5]\n",
    "np.std(data1)"
   ]
  },
  {
   "cell_type": "markdown",
   "id": "66de7d41-b10f-4993-ac29-a883ccfc5864",
   "metadata": {},
   "source": [
    "<br>\n",
    "<br>\n",
    "\n",
    "### 6. What is a Venn diagram?"
   ]
  },
  {
   "cell_type": "markdown",
   "id": "c5f9c7ac-7de8-496c-b069-c96a42693e24",
   "metadata": {},
   "source": [
    "Venn diagram uses overlapping circles or other shapes to illustrate the logical relationships between two or more sets of items. "
   ]
  },
  {
   "cell_type": "markdown",
   "id": "85893197-6f89-4898-8a40-cb1baefcb998",
   "metadata": {},
   "source": [
    "<br>\n",
    "<br>\n",
    "\n",
    "### 7. For the two given sets A = (2,3,4,5,6,7) & B = (0,2,6,8,10). Find:"
   ]
  },
  {
   "cell_type": "markdown",
   "id": "ab8220fa-5e36-4fe3-a3b2-c22c70ea755a",
   "metadata": {},
   "source": [
    " i)  A ⋂ B = (2,6) <br>\n",
    "ii)  A ⋃ B = (0,2,3,4,5,6,7,8,10)"
   ]
  },
  {
   "cell_type": "markdown",
   "id": "52f448e4-7cd1-4885-8364-02c01c2c8806",
   "metadata": {},
   "source": [
    "<br>\n",
    "<br>\n",
    "\n",
    "### 8. What do you understand about skewness in data?"
   ]
  },
  {
   "cell_type": "markdown",
   "id": "00eb7d1d-e4f8-499a-a005-c700b21e7b4d",
   "metadata": {},
   "source": [
    "Skewness describes how much statistical data distribution is asymmetrical from the normal distribution, where distribution is equally divided on each side. If the distribution is not symmetrical or not, it is skewed , it can be right or left skewed. In simple terms skewness tells us the direction of  outliers."
   ]
  },
  {
   "cell_type": "markdown",
   "id": "2e0b863f-1fbf-4b97-bcd5-e1060dc0d5c7",
   "metadata": {},
   "source": [
    "<br>\n",
    "<br>\n",
    "\n",
    "### 9. If a data is right skewed then what will be the position of median with respect to mean?"
   ]
  },
  {
   "cell_type": "markdown",
   "id": "2ecd126a-6c62-401f-836b-44bb02317f90",
   "metadata": {},
   "source": [
    "If the data is right skewed that means the tail of a distribution curve is longer on the right side , so our median will be left side of mean in the graph , that suggest that\n",
    "\n",
    "                mean>median"
   ]
  },
  {
   "cell_type": "markdown",
   "id": "13044486-3453-4bb9-ab09-fdad466b9f48",
   "metadata": {},
   "source": [
    "<br>\n",
    "<br>\n",
    "\n",
    "### 10. Explain the difference between covariance and correlation. How are these measures used in statistical analysis?"
   ]
  },
  {
   "cell_type": "markdown",
   "id": "c549a563-70cb-4e0c-91fc-7805b0f109bd",
   "metadata": {},
   "source": [
    "Covariance tells us how different two variables are from each other whereas correlation tells us how related two variables are to each other.\n",
    "we could say :\n",
    "\n",
    "            cov(x,x) = var(x)\n",
    "            \n",
    "Covariance tells only the direction of two variables not the strength whereas correlation measures the strength and direction both."
   ]
  },
  {
   "cell_type": "markdown",
   "id": "674f6d47-7e52-40d3-8252-ba673d3dbe44",
   "metadata": {},
   "source": [
    "<br>\n",
    "<br>\n",
    "\n",
    "### 11. What is the formula for calculating the sample mean? Provide an example calculation for a dataset."
   ]
  },
  {
   "cell_type": "markdown",
   "id": "138c5ab2-b01b-43e1-8165-8f8b9c294899",
   "metadata": {},
   "source": [
    "Formula for calculating sample mean is :\n",
    " \n",
    "            Σ x(i)\n",
    "           -------\n",
    "              n"
   ]
  },
  {
   "cell_type": "code",
   "execution_count": 10,
   "id": "18957c65-0c21-4e86-9bac-0def60349679",
   "metadata": {},
   "outputs": [
    {
     "data": {
      "text/plain": [
       "11.5"
      ]
     },
     "execution_count": 10,
     "metadata": {},
     "output_type": "execute_result"
    }
   ],
   "source": [
    "dataset = [10,11,12,13]\n",
    "np.mean(dataset)"
   ]
  },
  {
   "cell_type": "markdown",
   "id": "03588dda-bda4-450c-9af9-9f49a058cdf8",
   "metadata": {},
   "source": [
    "<br>\n",
    "<br>\n",
    "\n",
    "### 12. For a normal distribution data what is the relationship between its measure of central tendency?"
   ]
  },
  {
   "cell_type": "markdown",
   "id": "6ef77838-fdd8-4fe8-92c4-2b6d641f8a8f",
   "metadata": {},
   "source": [
    "A Normal distribution, is a probability distribution that is symmetric. So because of the symmetry we can conclude that all the measure of central tendencty which are mean, median mode all are perfectly at centre.\n",
    "\n",
    "        mean = median = mode"
   ]
  },
  {
   "cell_type": "markdown",
   "id": "c6259ecd-7a98-486d-8eab-d82223d1ff5c",
   "metadata": {},
   "source": [
    "<br>\n",
    "<br>\n",
    "\n",
    "### 13. How is covariance different from correlation?"
   ]
  },
  {
   "cell_type": "markdown",
   "id": "6e6fbd0f-ec0c-401e-a6a2-2f38764bf6f9",
   "metadata": {},
   "source": [
    "Covariance tells us how different two variables are from each other whereas correlation tells us how related two variables are to each other.\n",
    "we could say :\n",
    "\n",
    "            cov(x,x) = var(x)\n",
    "            \n",
    "Covariance tells only the direction of two variables not the strength whereas correlation measures the strength and direction both."
   ]
  },
  {
   "cell_type": "markdown",
   "id": "8038013a-9e4b-434a-a30b-876e3925188d",
   "metadata": {},
   "source": [
    "<br>\n",
    "<br>\n",
    "\n",
    "### 14. How do outliers affect measures of central tendency and dispersion? Provide an example."
   ]
  },
  {
   "cell_type": "markdown",
   "id": "0d7b06f9-b22d-4df7-9b02-aca34a22b595",
   "metadata": {},
   "source": [
    "Outlier can have significant effect on measure of central tendency and dispersion . Let's understand with an example. We will take two dataset one with outlier and one without outlier, calculate the mean and standarad deviation for both."
   ]
  },
  {
   "cell_type": "code",
   "execution_count": 11,
   "id": "dc87121f-2e81-498f-aed7-19d89bb28a65",
   "metadata": {},
   "outputs": [
    {
     "name": "stdout",
     "output_type": "stream",
     "text": [
      "mean :  60.0\n",
      "standard deviation :  28.284271247461902\n"
     ]
    }
   ],
   "source": [
    "# Without Outlier\n",
    "data = [20,40,60,80,100]\n",
    "print(\"mean : \",str(np.mean(data)))\n",
    "print(\"standard deviation : \",str(np.std(data)))"
   ]
  },
  {
   "cell_type": "code",
   "execution_count": 12,
   "id": "6010fdd5-e62d-448b-b823-11019f6ec61c",
   "metadata": {},
   "outputs": [
    {
     "name": "stdout",
     "output_type": "stream",
     "text": [
      "mean :  2040.0\n",
      "standard deviation :  3980.050250939051\n"
     ]
    }
   ],
   "source": [
    "# with Outlier\n",
    "data = [20,40,60,80,10000]\n",
    "print(\"mean : \",str(np.mean(data)))\n",
    "print(\"standard deviation : \",str(np.std(data)))"
   ]
  },
  {
   "cell_type": "markdown",
   "id": "893e195f-7523-4b48-bfd3-2e8bd3a18136",
   "metadata": {},
   "source": [
    "Now you can see above with outlier has significantly affected the mean , making it misleading as a measure of central tendency. and same goes for standard deviation."
   ]
  }
 ],
 "metadata": {
  "kernelspec": {
   "display_name": "Python 3 (ipykernel)",
   "language": "python",
   "name": "python3"
  },
  "language_info": {
   "codemirror_mode": {
    "name": "ipython",
    "version": 3
   },
   "file_extension": ".py",
   "mimetype": "text/x-python",
   "name": "python",
   "nbconvert_exporter": "python",
   "pygments_lexer": "ipython3",
   "version": "3.10.8"
  }
 },
 "nbformat": 4,
 "nbformat_minor": 5
}
