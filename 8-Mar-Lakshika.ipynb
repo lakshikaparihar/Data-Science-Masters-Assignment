{
 "cells": [
  {
   "cell_type": "markdown",
   "id": "a23418db-367b-4e0e-a055-c30417b38f53",
   "metadata": {},
   "source": [
    "### 1. What is the Probability density function?"
   ]
  },
  {
   "cell_type": "markdown",
   "id": "827e2f7a-299a-4a1b-aa04-796adf22b8be",
   "metadata": {},
   "source": [
    "Probability Density function is a subtype of Probability Distribution function which tells the spread of a data . We use Probabiltiy density function when we have continuous random varibales. Using Probability density function we try to find the area under the curve."
   ]
  },
  {
   "cell_type": "markdown",
   "id": "63c5c70b-3cf7-4a8f-b781-75aa589894e5",
   "metadata": {},
   "source": [
    "<br>\n",
    "<br>\n",
    "\n",
    "### 2. What are the types of Probability distribution?"
   ]
  },
  {
   "cell_type": "markdown",
   "id": "9b7e8a29-e89c-4511-be02-74b912607f33",
   "metadata": {},
   "source": [
    "There are three types of Probability distribution :\n",
    "1. Normal/Gaussian Distribution\n",
    "2. Bernouli Distribution\n",
    "3. Uniform Distribution\n",
    "4. Poisson Distribution\n",
    "5. Log Normal Distribution\n",
    "6. Binomial Distribution"
   ]
  },
  {
   "cell_type": "markdown",
   "id": "984461ee-f0a6-4276-8391-253ae0701f91",
   "metadata": {},
   "source": [
    "<br>\n",
    "<br>\n",
    "\n",
    "### 3. Write a Python function to calculate the probability density function of a normal distribution with given mean and standard deviation at a given point."
   ]
  },
  {
   "cell_type": "code",
   "execution_count": 1,
   "id": "66d057d1-6d64-4620-adb9-43d958875fa2",
   "metadata": {},
   "outputs": [
    {
     "data": {
      "text/plain": [
       "0.24197072451914337"
      ]
     },
     "execution_count": 1,
     "metadata": {},
     "output_type": "execute_result"
    }
   ],
   "source": [
    "from scipy.stats import norm\n",
    "\n",
    "def normal_pdf(mean, std_dev, x):\n",
    "    return norm.pdf(x, loc=mean, scale=std_dev)\n",
    "\n",
    "normal_pdf(0,1,1)"
   ]
  },
  {
   "cell_type": "markdown",
   "id": "a9923a73-d139-44fc-a447-ae92a43fe575",
   "metadata": {},
   "source": [
    "<br>\n",
    "<br>\n",
    "\n",
    "### 4. What are the properties of Binomial distribution? Give two examples of events where binomial distribution can be applied."
   ]
  },
  {
   "cell_type": "markdown",
   "id": "77fdd98b-c907-4e7a-9809-e4954b88fc93",
   "metadata": {},
   "source": [
    "Properties of Binomial distribution :\n",
    "1. Probability mass function of the binomial distribution is given by the formula :\n",
    "        Pr(k,n,p) = n(C)k p**k (1-p)**(n-k)\n",
    "        \n",
    "2. Mean of binomial distribution is given by \n",
    "        μ = np \n",
    "        \n",
    "3. Variance of binomial distribution is given by\n",
    "        σ^2 = np(1-p)\n",
    "        \n",
    "4. Standard deviation of binomial distribution is given by\n",
    "        σ = √ npq\n",
    "        \n",
    "5. The binomial distribution is generally bell-shaped, with the peak of the distribution occurring at k = np.\n",
    "\n",
    "Lets take example where we can apply binomial distribution :\n",
    "\n",
    "1. Coin Tosses : Suppose we are flipping a fair coin n times. So we can use the binomial distribution to calculate the probability of 3 tails in 10 coin tosses or the probability of getting at least 9 tails in 20 coin tosses.\n",
    "\n",
    "2. Medical Trials: A new drug is being tested on a group of patients with a certain medical condition, and the researchers want to know the probability of a successful outcome for the drug. The researchers can design a study where each patient is randomly assigned to receive the drug or a placebo, and the outcome is recorded as a success or failure. This is a binomial experiment, and the binomial distribution can be used to model the probability of a certain number of successes in the group of patients who received the drug. The distribution can also be used to estimate the probability of a successful outcome in a larger population of patients with the same medical condition."
   ]
  },
  {
   "cell_type": "markdown",
   "id": "48021aa2-19cc-4e09-8894-1255f7d4a0ea",
   "metadata": {},
   "source": [
    "<br>\n",
    "<br>\n",
    "\n",
    "### 5. Generate a random sample of size 1000 from a binomial distribution with probability of success 0.4 and plot a histogram of the results using matplotlib."
   ]
  },
  {
   "cell_type": "code",
   "execution_count": 3,
   "id": "7f5e9c12-e98e-4a52-95df-856a1926addc",
   "metadata": {},
   "outputs": [
    {
     "name": "stdout",
     "output_type": "stream",
     "text": [
      "[399 437 379 402 439 396 398 404 388 353 383 411 367 401 389 414 406 421\n",
      " 386 379 362 387 404 398 402 401 388 406 398 372 397 384 382 398 391 398\n",
      " 411 421 381 434 454 407 393 417 422 387 396 411 392 401 417 425 409 383\n",
      " 396 400 383 404 400 406 398 392 399 408 382 408 395 414 417 383 365 410\n",
      " 392 403 421 430 393 407 375 416 411 380 396 412 403 405 413 400 412 404\n",
      " 404 426 403 400 393 404 417 441 433 396 379 402 422 404 398 398 418 376\n",
      " 392 391 396 394 385 431 408 407 413 404 414 435 381 408 381 406 393 405\n",
      " 398 384 393 371 407 416 403 412 400 399 411 389 389 429 395 369 431 396\n",
      " 411 387 390 410 406 420 432 391 366 407 398 421 407 389 383 404 407 427\n",
      " 402 390 399 406 386 423 409 394 418 411 423 399 419 394 423 419 381 397\n",
      " 410 380 389 370 390 412 401 386 398 411 381 419 411 403 403 391 395 386\n",
      " 433 404 419 433 376 385 390 415 391 425 407 425 428 408 394 433 416 401\n",
      " 392 368 404 408 388 405 404 410 385 413 423 417 400 421 398 417 398 386\n",
      " 390 419 401 417 398 386 424 407 409 396 404 422 410 435 409 417 411 368\n",
      " 388 424 401 393 411 421 418 399 405 384 398 402 410 413 371 372 406 390\n",
      " 429 401 387 370 391 373 412 410 416 411 393 429 391 392 421 433 415 430\n",
      " 422 400 400 381 421 404 398 388 392 394 406 398 414 421 417 395 379 410\n",
      " 417 366 365 385 423 416 384 412 391 367 413 396 402 391 385 407 396 421\n",
      " 423 377 423 374 379 385 407 400 423 414 390 397 396 417 405 415 408 395\n",
      " 382 380 380 404 409 403 396 396 409 409 375 420 388 398 395 393 407 418\n",
      " 364 384 368 399 401 427 386 416 386 371 394 399 411 388 405 421 401 423\n",
      " 401 408 399 429 391 388 393 405 417 386 408 401 414 399 414 401 396 389\n",
      " 386 404 371 415 435 384 383 383 419 414 403 421 381 403 401 407 412 402\n",
      " 403 380 409 398 386 406 387 405 405 405 410 421 366 388 423 413 391 390\n",
      " 390 399 389 387 404 406 403 399 409 399 409 387 394 410 403 393 374 404\n",
      " 408 405 376 402 361 395 395 408 405 417 388 362 413 404 384 415 406 378\n",
      " 371 400 393 390 406 388 397 398 422 395 403 416 383 424 395 410 408 411\n",
      " 401 374 405 409 395 400 386 387 411 424 377 378 426 372 404 389 399 405\n",
      " 413 388 410 398 416 408 416 407 402 410 394 419 400 388 380 378 412 407\n",
      " 392 399 406 378 402 382 387 373 400 371 412 411 388 380 396 431 392 385\n",
      " 392 423 381 383 400 401 381 419 420 412 418 406 426 402 395 407 415 403\n",
      " 415 414 380 405 393 382 396 407 411 405 388 404 378 411 410 355 416 384\n",
      " 408 423 386 393 382 409 394 433 386 441 375 422 396 406 398 414 383 379\n",
      " 401 397 405 371 406 401 407 387 388 416 400 384 371 406 403 387 391 409\n",
      " 387 411 388 396 414 379 362 404 369 399 410 396 379 417 400 406 397 422\n",
      " 410 399 434 395 388 418 393 380 383 383 405 389 395 435 373 405 395 392\n",
      " 408 415 396 416 378 415 390 390 401 386 398 409 428 426 396 387 409 383\n",
      " 400 414 387 402 431 386 391 373 410 412 391 404 387 396 381 375 411 395\n",
      " 373 365 391 400 415 399 428 410 396 414 415 418 425 383 405 403 401 412\n",
      " 381 421 397 392 392 389 392 392 381 394 387 397 398 392 409 369 423 383\n",
      " 409 379 411 393 425 411 397 384 413 397 403 402 380 401 407 410 399 401\n",
      " 392 413 419 402 385 420 395 410 394 394 399 405 400 381 399 369 410 428\n",
      " 393 404 385 412 394 389 407 412 399 372 396 409 418 412 388 412 391 420\n",
      " 399 397 414 410 395 405 414 408 400 414 403 412 398 369 414 399 409 408\n",
      " 396 406 391 405 425 404 419 403 409 419 370 406 397 396 404 400 408 384\n",
      " 417 403 391 395 396 397 408 388 401 399 370 380 379 398 412 405 385 381\n",
      " 375 414 388 387 387 382 427 411 386 408 382 430 401 406 403 398 388 390\n",
      " 386 419 392 393 396 383 409 399 415 397 390 394 380 371 403 388 393 386\n",
      " 394 386 411 406 380 420 398 365 410 384 388 403 386 379 407 388 384 389\n",
      " 380 399 396 398 412 423 398 427 386 403 390 383 427 388 418 412 412 403\n",
      " 411 386 396 373 413 402 415 396 429 427 406 414 387 399 400 407 382 405\n",
      " 423 410 384 404 389 406 394 401 434 387 377 402 402 401 418 423 383 402\n",
      " 426 388 395 414 402 396 411 390 404 393 415 403 384 416 376 429 418 423\n",
      " 369 377 400 410 387 394 378 391 414 407 384 419 400 382 387 412 395 404\n",
      " 413 379 384 401 402 382 406 374 384 400 395 423 392 406 374 415 410 401\n",
      " 378 379 406 391 389 397 411 405 402 389]\n"
     ]
    }
   ],
   "source": [
    "import numpy as np \n",
    "\n",
    "n = 1000\n",
    "p = 0.4\n",
    "sample = np.random.binomial(n, p, size=n)\n",
    "\n",
    "print(sample)"
   ]
  },
  {
   "cell_type": "code",
   "execution_count": 7,
   "id": "717d274e-0f2d-4150-ac3d-a81356a624c0",
   "metadata": {},
   "outputs": [
    {
     "data": {
      "image/png": "[encoded data removed]",
      "text/plain": [
       "<Figure size 640x480 with 1 Axes>"
      ]
     },
     "metadata": {},
     "output_type": "display_data"
    }
   ],
   "source": [
    "import matplotlib.pyplot as plt\n",
    "\n",
    "plt.hist(sample,color='lightblue',edgecolor='white')\n",
    "plt.xlabel(\"Number of Successes\")\n",
    "plt.ylabel(\"Probability Density\")\n",
    "plt.title(' Binomial Distribution (n=1000, p=0.4) ')\n",
    "\n",
    "plt.show()"
   ]
  },
  {
   "cell_type": "markdown",
   "id": "a72b1765-77bc-4605-95e3-7f36b5306a2e",
   "metadata": {},
   "source": [
    "<br>\n",
    "<br>\n",
    "\n",
    "### 6. Write a Python function to calculate the cumulative distribution function of a Poisson distribution with given mean at a given point."
   ]
  },
  {
   "cell_type": "code",
   "execution_count": 9,
   "id": "56807dcb-43a1-4ca1-876e-26a2364ec437",
   "metadata": {},
   "outputs": [
    {
     "data": {
      "text/plain": [
       "9.879527102378398e-08"
      ]
     },
     "execution_count": 9,
     "metadata": {},
     "output_type": "execute_result"
    }
   ],
   "source": [
    "import math\n",
    "\n",
    "def poisson_cdf(lamda, k):\n",
    "    cdf = 0\n",
    "    for x in range(k+1):\n",
    "        cdf += math.exp(-lamda) * lamda**x / math.factorial(x)\n",
    "    return cdf\n",
    "\n",
    "poisson_cdf(24,3)"
   ]
  },
  {
   "cell_type": "markdown",
   "id": "cc2707ac-8543-4271-a5e1-ead789dcc23c",
   "metadata": {},
   "source": [
    "<br>\n",
    "<br>\n",
    "\n",
    "### 7. How Binomial distribution different from Poisson distribution?"
   ]
  },
  {
   "cell_type": "markdown",
   "id": "35ee3718-63c3-4188-94e8-a4c8a0374866",
   "metadata": {},
   "source": [
    "Binomial distribution has number of successes in a fixed number of trials while the Poisson distribution has the number of occurrences of an event in a fixed interval of time or space."
   ]
  },
  {
   "cell_type": "markdown",
   "id": "a42f915c-c920-4768-b0aa-a9aa111cf561",
   "metadata": {},
   "source": [
    "<br>\n",
    "<br>\n",
    "\n",
    "### 8. Generate a random sample of size 1000 from a Poisson distribution with mean 5 and calculate the sample mean and variance."
   ]
  },
  {
   "cell_type": "code",
   "execution_count": 10,
   "id": "0704bbc0-02a1-40c5-a43e-7d91e976446f",
   "metadata": {},
   "outputs": [
    {
     "name": "stdout",
     "output_type": "stream",
     "text": [
      "[ 2  6  5  5  5  5  1  2  5  5  6  5  3  6  6  6  3  8  2  8  3  3 10  2\n",
      "  4  5  2  7  6  2  4  7  3  1  5  4  3  5  2  8 10  5  4  5  3  4  4  7\n",
      "  3  7  5  1  0  6  3  4  5  5  6  5  3  4  5  3  5  3  5  1  2  5  9  5\n",
      "  8  2  4  5  1  7  4  8  9  9  4  7  7  1  5  9  0  3  3  6  6  9  1  7\n",
      "  5  6  6  4  2 10  8  9  3  6  4  3  5 12 10  7  1  5  5  2  2  8  3  7\n",
      "  3  2  4  4  7  7  5  6  3  8  8  4  5  6  4  6  2  4  5  8  8  2  3  2\n",
      "  5  2  3  4  5  5  2  5  4  4  5  5  4  3  4  6  3  3  7  4  4  4  8  8\n",
      "  6  9  4  8  5  5  5  2  2  6  7  3  3  5  6  3  1  4  1  8  6  6  8  4\n",
      "  4  7  4  7  5  6  9  6  3  7  7  6  4  5  5  5  4  4  5  3  2  2  4  7\n",
      "  5  6 11 10  1  5  9  6  6  9  4  4  2  2  2 10  6  7  5  3  5  4  2  8\n",
      "  4  2 10  3  9  7  8  2  5  4  4  7  4  2  4  3  9  6  3  7  5  9  4  5\n",
      "  5  3  8  6  0  5  9  3  5  6  2 10  3  1  6  4  4  3  3  4  5  9  5  2\n",
      "  6  9  9  4  5  7  4  6  4  5  3  4  2  3  5  3  9  6  2  2  4  4  5  8\n",
      "  3  7  6  9  8  6  5  7  5  5  4  7  5  4  7  6  7  6  5  7  5  5  6  2\n",
      "  2  6  2  7  1  4  7  6  3  3  6  9 10 14  4  5  4  3  2  4  3  3  7  6\n",
      "  5  2  6  9  4  3  8  6  2  4  6  4  3  7  2  2  6  8  4  3  5  5  8  6\n",
      "  7  5  5  9 11  4  5  4  4  2  7  4  6  3  4 10  3  5  6  4  5  5  6 10\n",
      "  4  5  4  5  6  1  3  7  4  2  4  4  4  3  2  8  6  5  3  3  5  6  4 10\n",
      "  7  4  7  6  8  2  9  9  3  4  4  5  5  3  4  5  3  7 11  8  4  2  3  3\n",
      "  2  5  2  7  6  5  3  6  4  5  7  5  6  4  2  2  3  7 10  3  7  5  3  4\n",
      "  4  4  7  4  4  3  5  4  4  3  6  3  6 10  3  6  1  7  4  2  7  3  6  3\n",
      "  7  7  9  3  6  6  4  2  4 14  5  3 10  9  8  6  2  2  7  3  5  2  8  5\n",
      "  4  6  4  4  6  4  2  7  6  3  4  6  2  7  2  3  6  2  3  4  6  3  6  4\n",
      "  6  3  5  4  3  2  5  4  6  6  6  4  4  7  7  4  3  5 10  6  4  9  8  4\n",
      "  5  2  4  4  9  7  5  4  5  2  8  8  4  5  4  4 11  9  3  7  4  5  5  4\n",
      "  6  2  4  7  6  5  6  8  2  5  3 10  9  1  5  4  6  6  4  4  1  4  2  4\n",
      "  3  5  4  7  3  2  5  4  3  4  4  5  1  7  9  6  4  4  5  6  4  2  4  7\n",
      "  8  9  5  2  7  2  8  8  6  5  7  5  5  4  6  7  4  4  3  6  5  5  0  6\n",
      "  7  9  7 10  5  3  3  8  3  4  5  8  5  7  3  4  5  9  7  3  3  6  5  5\n",
      "  3  6  4  3  4  3  3  5  6  5  9  5  3  5  4  4  5  8  6 11  6  5  1  4\n",
      "  7  4  8  4  3  4  6  4  7  7  5  2  2  4  3  7  3  5  8  1  5  7  6  9\n",
      "  8  9  4  3  7  5  1  5  5  1  3  9  3  3  9  7  3  8  3  5  6  5  6  3\n",
      "  6  8  2  2  3  2  2  2  9  3  7  6  7  1  0  2  6  6  6  6  3  4  6  6\n",
      "  1  4  2  3  6  6  2  6  9  4  5  7  6  4  1  3  5  2  3  7  8  6  2  3\n",
      "  8  8  5  2  9  5  4  6  3  5  7  3  3  4  6  5  3  5  2  4  2  9  3  1\n",
      "  7  4  1  3  6  7  7  4  6  4  3  8  6  4  2  4  5  5  7  8  4  5  3  6\n",
      "  5  4 10  6  4  4  5  4  5  3  9  6  7  8  4  8  5  3  4  6  6  6  3  1\n",
      "  4  5  4 13  6  8  3  4  9  1  6  4  7  3  4  6  6  7  4  6  2  5 10  4\n",
      "  6  7  1  5  2  2  4  2  6  3  2  3  4  8  7  4  4  5  5  5  7  4  4  5\n",
      "  4  1  7  7  2  6  5  5  2  3  3  2  6  6  5  4  3  2  1  3  4  2  6  3\n",
      "  4  6  3  2  3  3  7  5  5  8  4  3  5  4  2  2  8  4  5  6  8  7  4  3\n",
      "  3  4  3 12  4  1  6  4  4  1  4  6  8  3  6  5]\n"
     ]
    }
   ],
   "source": [
    "sample1 = np.random.poisson(lam = 5, size=1000)\n",
    "print(sample1)"
   ]
  },
  {
   "cell_type": "code",
   "execution_count": 11,
   "id": "f274ebec-33dc-48e9-adc8-b7a3da9bfc91",
   "metadata": {},
   "outputs": [
    {
     "data": {
      "text/plain": [
       "4.912"
      ]
     },
     "execution_count": 11,
     "metadata": {},
     "output_type": "execute_result"
    }
   ],
   "source": [
    "np.mean(sample1)"
   ]
  },
  {
   "cell_type": "code",
   "execution_count": 12,
   "id": "ae04af16-9138-4316-9bea-511e58347670",
   "metadata": {},
   "outputs": [
    {
     "data": {
      "text/plain": [
       "5.067323323323323"
      ]
     },
     "execution_count": 12,
     "metadata": {},
     "output_type": "execute_result"
    }
   ],
   "source": [
    "# ddof = 1 will make the denominator n-1 as we are calculating the sample variance\n",
    "np.var(sample1,ddof=1)"
   ]
  },
  {
   "cell_type": "markdown",
   "id": "f9054340-346e-4b1a-9b1b-5d9f78003da3",
   "metadata": {},
   "source": [
    "<br>\n",
    "<br>\n",
    "\n",
    "### 9. How mean and variance are related in Binomial distribution and Poisson distribution?"
   ]
  },
  {
   "cell_type": "markdown",
   "id": "58f2119a-3e94-4d15-82dd-185e4df2095f",
   "metadata": {},
   "source": [
    "In the Binomial distribution, the mean is equal to the product of the number of trials and the probability of success and the variance is equal to the product of the number of trials, the probability of failure and the probability of success.\n",
    "\n",
    "Whereas ,In the poisson distribution, both the mean and variance are same and equal to the product of lambda with the time interval."
   ]
  },
  {
   "cell_type": "markdown",
   "id": "2676d5db-9585-4384-9d7a-6b2d4b56951c",
   "metadata": {},
   "source": [
    "<br>\n",
    "<br>\n",
    "\n",
    "### 10. In normal distribution with respect to mean position, where does the least frequent data appear?"
   ]
  },
  {
   "cell_type": "markdown",
   "id": "ea78b3c6-7718-41a1-bd64-aba356a5ef4a",
   "metadata": {},
   "source": [
    "In normal distribution, the least frequent data appear at the tails."
   ]
  }
 ],
 "metadata": {
  "kernelspec": {
   "display_name": "Python 3 (ipykernel)",
   "language": "python",
   "name": "python3"
  },
  "language_info": {
   "codemirror_mode": {
    "name": "ipython",
    "version": 3
   },
   "file_extension": ".py",
   "mimetype": "text/x-python",
   "name": "python",
   "nbconvert_exporter": "python",
   "pygments_lexer": "ipython3",
   "version": "3.10.8"
  }
 },
 "nbformat": 4,
 "nbformat_minor": 5
}
