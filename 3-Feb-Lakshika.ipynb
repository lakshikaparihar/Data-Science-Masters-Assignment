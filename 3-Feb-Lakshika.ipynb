{
 "cells": [
  {
   "cell_type": "markdown",
   "id": "fde29bbf-272a-4a09-8647-b663e0c8337e",
   "metadata": {},
   "source": [
    "### 1. Which keyword is used to create a function? Create a function to return a list of odd numbers in the range of 1 to 25."
   ]
  },
  {
   "cell_type": "raw",
   "id": "f81886e1-e10b-468f-ac0e-72c396718289",
   "metadata": {},
   "source": [
    "\"def\" is the keyword used to create a function"
   ]
  },
  {
   "cell_type": "code",
   "execution_count": 1,
   "id": "11ae0a9e-5ed2-46f4-af4a-8314faf2777e",
   "metadata": {},
   "outputs": [
    {
     "name": "stdout",
     "output_type": "stream",
     "text": [
      "List of odd numbers in the range of 1 to 25 are :  [1, 3, 5, 7, 9, 11, 13, 15, 17, 19, 21, 23]\n"
     ]
    }
   ],
   "source": [
    "def odd_numbers():\n",
    "    odd_nums = []\n",
    "    for i in range(1,25):\n",
    "        if i%2!=0:\n",
    "            odd_nums.append(i)\n",
    "    return odd_nums\n",
    "\n",
    "print(\"List of odd numbers in the range of 1 to 25 are : \",odd_numbers())"
   ]
  },
  {
   "cell_type": "markdown",
   "id": "1e95d7d6-5bfa-426c-a35a-94a52f9aa9af",
   "metadata": {},
   "source": [
    "<br>\n",
    "<br>\n",
    "\n",
    "### 2. Why *args and **kwargs is used in some functions? Create a function each for *args and **kwargs to demonstrate their use."
   ]
  },
  {
   "cell_type": "raw",
   "id": "e37d6bc0-22f9-4a02-a3f6-eddf308bffa6",
   "metadata": {},
   "source": [
    "When you require dynamic arguments in tuple format or don't know the no. of arguments you will receive , you use *args on your parameter. \n",
    "\n",
    "When you require dynamic arguments in the dictionary format then you use **kwargs.\n",
    "\n",
    "Note: Main thing is *(asterik), as we can change the  identifier args or kwargs with our name as well."
   ]
  },
  {
   "cell_type": "code",
   "execution_count": 27,
   "id": "0e65f9d2-bd2f-4758-877d-a186fa755fb4",
   "metadata": {},
   "outputs": [
    {
     "name": "stdout",
     "output_type": "stream",
     "text": [
      "tuple_argument returned :  (1, 2, 3, 'Lakshika')\n",
      "dictionary_argument returned :  {'sno': [1, 2, 3], 'names': ['Lakshika', 'mansi'], 'text': 'I am awesome'}\n"
     ]
    }
   ],
   "source": [
    "def tuple_argument(*args):\n",
    "    return args\n",
    "\n",
    "def dictionary_argument(**kwargs):\n",
    "    return kwargs\n",
    "\n",
    "print(\"tuple_argument returned : \",tuple_argument(1,2,3,\"Lakshika\"))\n",
    "print(\"dictionary_argument returned : \",dictionary_argument(sno =[1,2,3], names=[\"Lakshika\",\"mansi\"], text=\"I am awesome\")) "
   ]
  },
  {
   "cell_type": "markdown",
   "id": "f592c2f1-bea8-4c71-89fa-2b270070ba4d",
   "metadata": {},
   "source": [
    "<br>\n",
    "<br>\n",
    "\n",
    "### 3. What is an iterator in python? Name the method used to initialise the iterator object and the method used for iteration. Use these methods to print the first five elements of the given list [2,4,6,8,10,12,14,16,18,20]"
   ]
  },
  {
   "cell_type": "raw",
   "id": "1a709580-20c8-4ccf-a5ab-decf181c71ab",
   "metadata": {},
   "source": [
    "Iterator is used to allow for efficient access to elements in a sequence one at a time. Method used to create or initialise an iterator is iter() and method used for iteration is next()."
   ]
  },
  {
   "cell_type": "code",
   "execution_count": 51,
   "id": "f5d797b2-cb0d-457f-8ca9-c2cfaee82f5b",
   "metadata": {},
   "outputs": [],
   "source": [
    "l = [2,4,6,8,10,12,14,16,18,20]"
   ]
  },
  {
   "cell_type": "code",
   "execution_count": 52,
   "id": "eedcf53e-2f2c-4912-ac0a-798b96cc0e3a",
   "metadata": {},
   "outputs": [],
   "source": [
    "l=iter(l)"
   ]
  },
  {
   "cell_type": "code",
   "execution_count": 53,
   "id": "4127c515-32a9-4570-bd2f-3d3fa8979f07",
   "metadata": {},
   "outputs": [
    {
     "name": "stdout",
     "output_type": "stream",
     "text": [
      "2\n",
      "4\n",
      "6\n",
      "8\n",
      "10\n"
     ]
    }
   ],
   "source": [
    "for i in range(5):\n",
    "    print(next(l))"
   ]
  },
  {
   "cell_type": "markdown",
   "id": "5f12cfc4-0ed2-462f-96d2-c4716b5092d7",
   "metadata": {},
   "source": [
    "<br>\n",
    "<br>\n",
    "\n",
    "### 4. What is a generator function in python? Why yield keyword is used? Give an example of a generator function."
   ]
  },
  {
   "cell_type": "raw",
   "id": "889d4d82-8438-4d83-bf88-238ef19d6a6a",
   "metadata": {},
   "source": [
    "Generator functions are the function which continously returns the data in each iteration instead of returning the whole data after the iteration is completed. Generator function doesn't returns the outcome it returns the generator object. We mostly use generator function for memory optimization\n",
    "\n",
    "yield is a keyword which helps in creating a generator function."
   ]
  },
  {
   "cell_type": "code",
   "execution_count": 41,
   "id": "8d214a6b-8c23-4f77-8252-adb1073a8d34",
   "metadata": {},
   "outputs": [
    {
     "name": "stdout",
     "output_type": "stream",
     "text": [
      "Generator will return the geneartor object not the list :  <generator object fibonnaci at 0x7f04201a7680>\n",
      "First 10 Fibonacci Series are :  [0, 1, 1, 2, 3, 5, 8, 13, 21, 34]\n"
     ]
    }
   ],
   "source": [
    "def fibonnaci(num):\n",
    "    a,b=0,1\n",
    "    for i in range(num):\n",
    "        yield a\n",
    "        a,b = b ,a+b\n",
    "        \n",
    "print(\"Generator will return the geneartor object not the list : \",fibonnaci(10))\n",
    "\n",
    "print(\"First 10 Fibonacci Series are : \",[i for i in fibonnaci(10)])"
   ]
  },
  {
   "cell_type": "markdown",
   "id": "d0bc8a4e-2111-4d8e-b793-7ed957385c51",
   "metadata": {},
   "source": [
    "<br>\n",
    "<br>\n",
    "\n",
    "### 5. Create a generator function for prime numbers less than 1000. Use the next() method to print the first 20 prime numbers."
   ]
  },
  {
   "cell_type": "code",
   "execution_count": 78,
   "id": "e3c9cfd4-93c8-41c5-a9be-4e97acdb1626",
   "metadata": {},
   "outputs": [
    {
     "name": "stdout",
     "output_type": "stream",
     "text": [
      "2 3 5 7 11 13 17 19 23 29 31 37 41 43 47 53 59 61 67 71 "
     ]
    }
   ],
   "source": [
    "def is_prime(num):\n",
    "    for i in range(2,num):\n",
    "        if num%i==0:\n",
    "            return False\n",
    "    return True\n",
    "    \n",
    "def prime_generator():\n",
    "    n = 2\n",
    "    while True:\n",
    "        if n<1000:\n",
    "            if is_prime(n):\n",
    "                yield n\n",
    "        n += 1\n",
    "\n",
    "generator = prime_generator()\n",
    "for i in range(20):\n",
    "    print(next(generator),end=\" \")"
   ]
  },
  {
   "cell_type": "markdown",
   "id": "4f350f88-5bc2-40a1-927a-67deb2d87d1a",
   "metadata": {},
   "source": [
    "<br>\n",
    "<br>\n",
    "\n",
    "### 6. Write a python program to print the first 10 Fibonacci numbers using a while loop."
   ]
  },
  {
   "cell_type": "code",
   "execution_count": 4,
   "id": "a0d939b7-8283-48e9-af4f-4a1cee582ef7",
   "metadata": {},
   "outputs": [
    {
     "name": "stdout",
     "output_type": "stream",
     "text": [
      "0 1 1 2 3 5 8 13 21 34 55 "
     ]
    }
   ],
   "source": [
    "counter = 0\n",
    "a,b = 0,1\n",
    "\n",
    "print(a,b,end=\" \")\n",
    "while counter<9:\n",
    "    c=a+b\n",
    "    a=b\n",
    "    b=c\n",
    "    print(c,end=\" \")\n",
    "    counter+=1"
   ]
  },
  {
   "cell_type": "markdown",
   "id": "ea9d4e7d-7808-4d87-842e-21e30355356f",
   "metadata": {},
   "source": [
    "<br>\n",
    "<br>\n",
    "\n",
    "### 7. Write a List Comprehension to iterate through the given string: 'pwskills'.\n",
    "Expected output: ['p','w','s','k','i','l','l','s']"
   ]
  },
  {
   "cell_type": "code",
   "execution_count": 9,
   "id": "5ea82c11-0403-4f87-8077-a4d22f531f65",
   "metadata": {},
   "outputs": [
    {
     "data": {
      "text/plain": [
       "['p', 'w', 's', 'k', 'i', 'l', 'l', 's']"
      ]
     },
     "execution_count": 9,
     "metadata": {},
     "output_type": "execute_result"
    }
   ],
   "source": [
    "string = \"pwskills\"\n",
    "\n",
    "[i for i in string]"
   ]
  },
  {
   "cell_type": "markdown",
   "id": "250a8301-3f0d-4a39-91e6-3fb609b8803e",
   "metadata": {},
   "source": [
    "<br>\n",
    "<br>\n",
    "\n",
    "### 8. Write a python program to check whether a given number is Palindrome or not using a while loop."
   ]
  },
  {
   "cell_type": "code",
   "execution_count": 7,
   "id": "3dc644ec-1160-4405-9cc3-77cc1e9f52e2",
   "metadata": {},
   "outputs": [
    {
     "name": "stdin",
     "output_type": "stream",
     "text": [
      "Enter the number to check for Palindrome 23432\n"
     ]
    },
    {
     "name": "stdout",
     "output_type": "stream",
     "text": [
      "Given number is a Palindrome\n"
     ]
    }
   ],
   "source": [
    "num = input(\"Enter the number to check for Palindrome\")\n",
    "length = len(num)\n",
    "reverse=\"\"\n",
    "\n",
    "while length>0:\n",
    "    reverse+=num[length-1]\n",
    "    length-=1\n",
    "    \n",
    "if reverse == num:\n",
    "    print(\"Given number is a Palindrome\")\n",
    "else:\n",
    "    print(\"Given number is not a Palindrome\")"
   ]
  },
  {
   "cell_type": "markdown",
   "id": "ac9355d1-632c-4aed-a914-03b9c950c9e1",
   "metadata": {},
   "source": [
    "<br>\n",
    "<br>\n",
    "\n",
    "### 9. Write a code to print odd numbers from 1 to 100 using list comprehension."
   ]
  },
  {
   "cell_type": "code",
   "execution_count": 13,
   "id": "d8b5905c-b34c-450b-987d-2991bca9c039",
   "metadata": {},
   "outputs": [
    {
     "data": {
      "text/plain": [
       "[1,\n",
       " 3,\n",
       " 5,\n",
       " 7,\n",
       " 9,\n",
       " 11,\n",
       " 13,\n",
       " 15,\n",
       " 17,\n",
       " 19,\n",
       " 21,\n",
       " 23,\n",
       " 25,\n",
       " 27,\n",
       " 29,\n",
       " 31,\n",
       " 33,\n",
       " 35,\n",
       " 37,\n",
       " 39,\n",
       " 41,\n",
       " 43,\n",
       " 45,\n",
       " 47,\n",
       " 49,\n",
       " 51,\n",
       " 53,\n",
       " 55,\n",
       " 57,\n",
       " 59,\n",
       " 61,\n",
       " 63,\n",
       " 65,\n",
       " 67,\n",
       " 69,\n",
       " 71,\n",
       " 73,\n",
       " 75,\n",
       " 77,\n",
       " 79,\n",
       " 81,\n",
       " 83,\n",
       " 85,\n",
       " 87,\n",
       " 89,\n",
       " 91,\n",
       " 93,\n",
       " 95,\n",
       " 97,\n",
       " 99]"
      ]
     },
     "execution_count": 13,
     "metadata": {},
     "output_type": "execute_result"
    }
   ],
   "source": [
    "[i for i in [i for i in range(1,100)]  if i%2!=0]"
   ]
  },
  {
   "cell_type": "code",
   "execution_count": 15,
   "id": "0780907d-6d58-49d9-982c-3a229efd5458",
   "metadata": {},
   "outputs": [
    {
     "data": {
      "text/plain": [
       "[1,\n",
       " 3,\n",
       " 5,\n",
       " 7,\n",
       " 9,\n",
       " 11,\n",
       " 13,\n",
       " 15,\n",
       " 17,\n",
       " 19,\n",
       " 21,\n",
       " 23,\n",
       " 25,\n",
       " 27,\n",
       " 29,\n",
       " 31,\n",
       " 33,\n",
       " 35,\n",
       " 37,\n",
       " 39,\n",
       " 41,\n",
       " 43,\n",
       " 45,\n",
       " 47,\n",
       " 49,\n",
       " 51,\n",
       " 53,\n",
       " 55,\n",
       " 57,\n",
       " 59,\n",
       " 61,\n",
       " 63,\n",
       " 65,\n",
       " 67,\n",
       " 69,\n",
       " 71,\n",
       " 73,\n",
       " 75,\n",
       " 77,\n",
       " 79,\n",
       " 81,\n",
       " 83,\n",
       " 85,\n",
       " 87,\n",
       " 89,\n",
       " 91,\n",
       " 93,\n",
       " 95,\n",
       " 97,\n",
       " 99]"
      ]
     },
     "execution_count": 15,
     "metadata": {},
     "output_type": "execute_result"
    }
   ],
   "source": [
    "# We can directly do it using range without creating nested list comprehension\n",
    "[i for i in range(1,100)  if i%2!=0]"
   ]
  }
 ],
 "metadata": {
  "kernelspec": {
   "display_name": "Python 3 (ipykernel)",
   "language": "python",
   "name": "python3"
  },
  "language_info": {
   "codemirror_mode": {
    "name": "ipython",
    "version": 3
   },
   "file_extension": ".py",
   "mimetype": "text/x-python",
   "name": "python",
   "nbconvert_exporter": "python",
   "pygments_lexer": "ipython3",
   "version": "3.10.8"
  }
 },
 "nbformat": 4,
 "nbformat_minor": 5
}
