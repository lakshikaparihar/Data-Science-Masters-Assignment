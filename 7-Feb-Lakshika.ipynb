{
 "cells": [
  {
   "cell_type": "markdown",
   "id": "4240fcad-1165-454b-851b-ad46f42499a6",
   "metadata": {},
   "source": [
    "### 1. You are writing code for a company. The requirement of the company is that you create a python function that will check whether the password entered by the user is correct or not. The function should take the password as input and return the string “Valid Password” if the entered password follows the below-given password guidelines else it should return “Invalid Password”.\n",
    "\n",
    "\n",
    "1. The Password should contain at least two uppercase letters and at least two lowercase letters.\n",
    "2. The Password should contain at least a number and three special characters.\n",
    "3. The length of the password should be 10 characters long."
   ]
  },
  {
   "cell_type": "code",
   "execution_count": 13,
   "id": "8ae51822-a653-4956-892b-254bf1186b69",
   "metadata": {},
   "outputs": [
    {
     "name": "stdin",
     "output_type": "stream",
     "text": [
      "Enter the password :  Laika@1@@M\n"
     ]
    },
    {
     "name": "stdout",
     "output_type": "stream",
     "text": [
      "Valid Password\n"
     ]
    }
   ],
   "source": [
    "def validate_password(pasw):\n",
    "    upper_count = len(list(filter(lambda x:x.isupper(),pasw)))\n",
    "    lower_count = len(list(filter(lambda x:x.islower(),pasw)))\n",
    "    numeric_count = len(list(filter(lambda x:x.isnumeric(),pasw)))\n",
    "    special_count = len(list(filter(lambda x: not(x.isnumeric() or x.isalpha()),pasw)))\n",
    "    \n",
    "    if upper_count>=2 and lower_count>=2 and numeric_count>=1 and special_count==3 and len(pasw)==10:\n",
    "        return \"Valid Password\"\n",
    "    return \"Invalid Password\"\n",
    "\n",
    "password = input(\"Enter the password : \")\n",
    "print(validate_password(password))"
   ]
  },
  {
   "cell_type": "markdown",
   "id": "3108e521-5062-45c3-801d-6dc5233415ef",
   "metadata": {},
   "source": [
    "<br>\n",
    "<br>\n",
    "\n",
    "### 2.Solve the below-given questions using at least one of the following: \n",
    "1. Lambda function \n",
    "2. Filter function \n",
    "3. Map function \n",
    "4. List Comprehension"
   ]
  },
  {
   "cell_type": "code",
   "execution_count": 20,
   "id": "01019f5a-1fff-4568-95df-a7c4f6465400",
   "metadata": {},
   "outputs": [
    {
     "name": "stdout",
     "output_type": "stream",
     "text": [
      "string starts with M\n",
      "string doesn't starts with M\n"
     ]
    }
   ],
   "source": [
    "# Check if the string starts with a particular letter.\n",
    "check = lambda x: \"string starts with M\" if x[0]==\"M\" else \"string doesn't starts with M\"\n",
    "\n",
    "print(check(\"Mansi\"))\n",
    "print(check(\"Lakshika\"))"
   ]
  },
  {
   "cell_type": "code",
   "execution_count": 21,
   "id": "99003617-11fd-4bf1-b69d-7a374d6cf1b6",
   "metadata": {},
   "outputs": [
    {
     "name": "stdout",
     "output_type": "stream",
     "text": [
      "string is not numeric\n",
      "string is numeric\n"
     ]
    }
   ],
   "source": [
    "# Check if the string is numeric\n",
    "\n",
    "check = lambda x: \"string is numeric\" if x.isnumeric() else \"string is not numeric\"\n",
    "\n",
    "print(check(\"awesome1\"))\n",
    "print(check(\"1213\"))"
   ]
  },
  {
   "cell_type": "code",
   "execution_count": 23,
   "id": "230cadf4-93ae-436b-bb31-a3e5f6cb60ed",
   "metadata": {},
   "outputs": [
    {
     "data": {
      "text/plain": [
       "[('orange', 80), ('mango', 99), ('grapes', 1000)]"
      ]
     },
     "execution_count": 23,
     "metadata": {},
     "output_type": "execute_result"
    }
   ],
   "source": [
    "# Sort a list of tuples having fruit names and their quantity. \n",
    "fruit_list = [(\"mango\",99),(\"orange\",80), (\"grapes\", 1000)]\n",
    "\n",
    "# Sorting the list according to the second value of tuple\n",
    "sorted(fruit_list,key=lambda x:x[1])"
   ]
  },
  {
   "cell_type": "code",
   "execution_count": 24,
   "id": "75ef5a2a-252d-4028-87ed-f14495738aee",
   "metadata": {},
   "outputs": [
    {
     "data": {
      "text/plain": [
       "[1, 4, 9, 16, 25, 36, 49, 64, 81, 100]"
      ]
     },
     "execution_count": 24,
     "metadata": {},
     "output_type": "execute_result"
    }
   ],
   "source": [
    "# Find the squares of numbers from 1 to 10.\n",
    "[i*i for i in range(1,11)]"
   ]
  },
  {
   "cell_type": "code",
   "execution_count": 25,
   "id": "7b8228b7-eca5-40c2-ac22-b5a19578f0e3",
   "metadata": {},
   "outputs": [
    {
     "data": {
      "text/plain": [
       "[1, 8, 27, 64, 125, 216, 343, 512, 729, 1000]"
      ]
     },
     "execution_count": 25,
     "metadata": {},
     "output_type": "execute_result"
    }
   ],
   "source": [
    "# Find the cube root of numbers from 1 to 10.\n",
    "[i*i*i for i in range(1,11)]"
   ]
  },
  {
   "cell_type": "code",
   "execution_count": 27,
   "id": "4f0f4f41-91a4-4140-9f85-3fec10f0ad1d",
   "metadata": {},
   "outputs": [
    {
     "name": "stdout",
     "output_type": "stream",
     "text": [
      "12 is even\n",
      "11 is not even\n"
     ]
    }
   ],
   "source": [
    "# Check if a given number is even.\n",
    "\n",
    "check_even = lambda x: f\"{x} is even\" if x%2==0 else f\"{x} is not even\"\n",
    "\n",
    "print(check_even(12))\n",
    "print(check_even(11))"
   ]
  },
  {
   "cell_type": "code",
   "execution_count": 28,
   "id": "dd8f80e2-50fc-4d60-91a6-ed6091548e8b",
   "metadata": {},
   "outputs": [
    {
     "data": {
      "text/plain": [
       "[1, 3, 5, 7, 9]"
      ]
     },
     "execution_count": 28,
     "metadata": {},
     "output_type": "execute_result"
    }
   ],
   "source": [
    "# Filter odd numbers from the given list.\n",
    "l = [1,2,3,4,5,6,7,8,9,10]\n",
    "list(filter(lambda x:x%2!=0, l))"
   ]
  },
  {
   "cell_type": "code",
   "execution_count": 7,
   "id": "268bba0c-6646-4562-a592-1bea029685b1",
   "metadata": {},
   "outputs": [
    {
     "name": "stdout",
     "output_type": "stream",
     "text": [
      "Positive List:  [0, 1, 2, 3, 4, 5, 6]\n",
      "Negative List:  [-5, -4, -3, -2, -1]\n"
     ]
    }
   ],
   "source": [
    "# Sort a list of integers into positive and negative integers lists.\n",
    "l = [1,2,3,4,5,6,-1,-2,-3,-4,-5,0]\n",
    "print(\"Positive List: \",sorted(filter(lambda x:x>=0,l)))\n",
    "print(\"Negative List: \",sorted(filter(lambda x:x<0,l)))"
   ]
  }
 ],
 "metadata": {
  "kernelspec": {
   "display_name": "Python 3 (ipykernel)",
   "language": "python",
   "name": "python3"
  },
  "language_info": {
   "codemirror_mode": {
    "name": "ipython",
    "version": 3
   },
   "file_extension": ".py",
   "mimetype": "text/x-python",
   "name": "python",
   "nbconvert_exporter": "python",
   "pygments_lexer": "ipython3",
   "version": "3.10.8"
  }
 },
 "nbformat": 4,
 "nbformat_minor": 5
}
