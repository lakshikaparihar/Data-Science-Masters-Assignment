{
 "cells": [
  {
   "cell_type": "markdown",
   "id": "e64b2d68-b856-4454-b19e-a967677ae8d9",
   "metadata": {},
   "source": [
    "### 1. What are the Probability Mass Function (PMF) and Probability Density Function (PDF)? Explain with an example."
   ]
  },
  {
   "cell_type": "raw",
   "id": "06064636-f1fd-4d2e-80aa-9f28de100da3",
   "metadata": {},
   "source": [
    "Probability Mass Function (PMF) and Probability Density Function (PDF) are subtypes of Probability Distributed function,  which denotes the spread of Data.\n",
    "\n",
    "When we have Discrete Random Variable, we use Probability Mass Function. Donated by P(X=x)\n",
    "\n",
    "Example :  let X be the number of heads obtained when a coin is flipped three times. The possible values of X are 0, 1, 2, and 3. The PMF for X is given by:\n",
    "\n",
    "P(X=0) = 1/8\n",
    "P(X=1) = 3/8\n",
    "P(X=2) = 3/8\n",
    "P(X=3) = 1/8\n",
    "\n",
    "This PMF tells us the probability of getting 0 heads is 1/8, the probability of getting 1 head is 3/8, the probability of getting 2 heads is 3/8, and the probability of getting 3 heads is 1/8\n",
    "\n",
    "When we have Continous Random Variable, we use Probability Density Function.The PDF gives the density of the probability distribution over the range of possible values of the random variable. The area under the PDF curve gives the probability of the random variable falling within a particular range of values.\n",
    "\n",
    "Example : let X be the weight of a randomly selected apple from a certain orchard. Assume that X is normally distributed with mean 200 grams and standard deviation 20 grams. The PDF for X is given by:\n",
    "\n",
    "f(x) = (1/(20sqrt(2pi))) * exp(-((x-200)^2)/(2*20^2))\n",
    "\n",
    "This PDF tells us the density of the probability distribution of X at any given weight value. For example, if we want to find the probability that a randomly selected apple weighs between 190 and 210 grams,"
   ]
  },
  {
   "cell_type": "markdown",
   "id": "ee3d99b8-4b71-4cac-b6c2-c1c0556592c8",
   "metadata": {},
   "source": [
    "<br>\n",
    "<br>\n",
    "\n",
    "### 2. What is Cumulative Density Function (CDF)? Explain with an example. Why CDF is used?"
   ]
  },
  {
   "cell_type": "raw",
   "id": "aadded9a-773a-4e8c-9e87-90733b74f641",
   "metadata": {},
   "source": [
    "Cumulative Density Function tells the cummulative probability of random variables will take on a certain value or less. It is denoted by F(x).\n",
    "\n",
    "Expressed mathmetically as :\n",
    "                F(x) = P(X ≤ x)\n",
    "                \n",
    "For example : \n",
    "Rolling a dice we have a discrete random variable as {1,2,3,4,5,6} , Assuming its a fair dice so probability of getting any random variable from the set would be 1/6. And now in cummulative probability we will find that\n",
    "        P(x<=2) = P(1)+P(2)\n",
    "        \n",
    "this can be easily calculated by the cdf distribution\n",
    "\n",
    "CDF is used for a variety of purposes, like determining the distribution of a random variable, hypothesis testing, confidence intervals. "
   ]
  },
  {
   "cell_type": "markdown",
   "id": "9529f8d4-2e23-408e-a028-b0df8829c6ce",
   "metadata": {},
   "source": [
    "<br>\n",
    "<br>\n",
    "\n",
    "### 3. What are some examples of situations where the normal distribution might be used as a model? Explain how the parameters of the normal distribution relate to the shape of the distribution."
   ]
  },
  {
   "cell_type": "raw",
   "id": "d8c4c923-88fe-4ee3-9fc0-17e882790422",
   "metadata": {},
   "source": [
    "The normal distribution is often used to model continuous variables that are naturally symmetric around a mean value, such as heights, weights etc. \n",
    "\n",
    "Some Examples of situations where the normal distribution might be used as a model are :\n",
    "\n",
    "1. Height : The distribution of heights in a population tends to follow a normal distribution, with a mean height around 5'6'' for women and 5'10'' for men.\n",
    "\n",
    "2. Test scores: The distribution of test scores on a well-designed test often follows a normal distribution, with a mean around the middle of the range and a standard deviation that reflects the variability of scores around the mean.\n",
    "\n",
    "So there are two parameters of the normal distribution , mean and the standard deviation. In which mean represents the centre or peak of the distribution , around which the data is symmetrically distributed whereas standard deviation measures the spread of the data around the mean. A smaller standard deviation will result in a narrower and taller peak, while a larger standard deviation will result in a wider and shorter peak."
   ]
  },
  {
   "cell_type": "markdown",
   "id": "74862953-ec06-459c-995b-80666f2a2919",
   "metadata": {},
   "source": [
    "<br>\n",
    "<br>\n",
    "\n",
    "### 4. Explain the importance of Normal Distribution. Give a few real-life examples of Normal Distribution."
   ]
  },
  {
   "cell_type": "raw",
   "id": "9f16f230-ef28-4600-9709-20ea1ae39756",
   "metadata": {},
   "source": [
    "Some important characteristics of normal distribution are:\n",
    "\n",
    "1. Symmetry: The normal distribution is symmetric around its mean. This means that half of the observations are greater than the mean, and half are less than the mean.\n",
    "\n",
    "2. Bell-shaped curve: The normal distribution has a bell-shaped curve, with the majority of the observations clustered around the mean.\n",
    "\n",
    "3. Standard deviation: The width of the bell-shaped curve is determined by the standard deviation. A small standard deviation indicates that the data is tightly clustered around the mean, while a large standard deviation indicates that the data is more spread out.\n",
    "\n",
    "Some examples of real-life phenomena that exhibit normal distribution include are :\n",
    "* Heights\n",
    "* Exam scores\n",
    "* Bode Weight\n",
    "* IQ scores\n"
   ]
  },
  {
   "cell_type": "markdown",
   "id": "3ae61605-2f67-471a-8345-46ea6acb044f",
   "metadata": {},
   "source": [
    "<br>\n",
    "<br>\n",
    "\n",
    "### 5. What is Bernoulli Distribution? Give an Example. What is the difference between Bernoulli Distribution and Binomial Distribution?"
   ]
  },
  {
   "cell_type": "raw",
   "id": "d42c7f63-d661-4d00-a42d-73a4708ef837",
   "metadata": {},
   "source": [
    "Bernoulli Distribution is a probability distribution that describes a random experiment with only two possible outcomes, usually referred to as 'success' and 'failure'. Example of Bernaulli Distribution can be tossing a coin where two possible outcome are 'heads' and 'tails' or an student exam status where two possible outcome would be 'pass' or 'fail'.\n",
    "\n",
    "The Difference between Bernoulli distribution and Binomial Distribution are:\n",
    "\n",
    "1. Bernoulli distribution is used to model a singal trial of random experiment with two possible outcomes, while Binomial Distribution is used to model the number of successes in a fixed number of independent Bernoulli trials. Simply we can say Binomial Distribution is a group of Bernoulli Distribution.\n",
    "\n",
    "2. Probability Mass Function for Bernoulli Distribution is \n",
    "            P[X=k] = p^k * (1-p)^(n-k)\n",
    "   whereas Probability Mass Function for Binomial Distribution is\n",
    "            P[X=k] = (n choose k) * p^k * (1-p)^(n-k)"
   ]
  },
  {
   "cell_type": "markdown",
   "id": "babbc706-4465-4e79-af44-684ace1b5a5d",
   "metadata": {},
   "source": [
    "<br>\n",
    "<br>\n",
    "\n",
    "### 6. Consider a dataset with a mean of 50 and a standard deviation of 10. If we assume that the dataset is normally distributed, what is the probability that a randomly selected observation will be greater than 60? Use the appropriate formula and show your calculations."
   ]
  },
  {
   "cell_type": "raw",
   "id": "121ef019-090f-4f93-bae5-94b3dbd5b8c1",
   "metadata": {},
   "source": [
    "As mean and standard deviation is given so we can use the z-score formula to get the probability\n",
    "\n",
    "         z = (x - μ) / σ\n",
    "        \n",
    "        P(x>60) = (60 - 50 ) / 10\n",
    "                = 1\n",
    "                \n",
    "Now from the positive z-table for value 1 , we can say area of the left of z=1 is approxiamately 0.84134\n",
    "\n",
    "And we know the total probability is 1 so the probability that a randomly selected observation will be greater than 60 will become\n",
    "        1 - 0.84134 = 0.15866 = 15.87 %\n",
    "        "
   ]
  },
  {
   "cell_type": "markdown",
   "id": "ab09ae43-5692-41d8-88a8-0fcc6f3c84af",
   "metadata": {},
   "source": [
    "<br>\n",
    "<br>\n",
    "\n",
    "### 7. Explain uniform Distribution with an example."
   ]
  },
  {
   "cell_type": "raw",
   "id": "463ed841-99c9-405b-9677-6656a4046bca",
   "metadata": {},
   "source": [
    "Uniform distribution is a probability distribution where every possible value of a random variable has an equal chance of occurring.\n",
    "\n",
    "Example : Rolling a fair dice. The possible outcomes are 1, 2, 3, 4, 5, and 6, and each outcome has an equal probability of 1/6\n",
    "\n",
    "There are two types of uniform distribution :\n",
    "1. Continous Uniform Distribution\n",
    "2. Discrete Uniform "
   ]
  },
  {
   "cell_type": "markdown",
   "id": "d8466f24-10ab-4a36-b6dd-ce8403976c61",
   "metadata": {},
   "source": [
    "<br>\n",
    "<br>\n",
    "\n",
    "### 8. What is the z score? State the importance of the z score."
   ]
  },
  {
   "cell_type": "raw",
   "id": "97d06849-71c1-4863-a4e6-46c06b50afa5",
   "metadata": {},
   "source": [
    "Z-Score is a measure of how many standard deviations a data point is away from the mean of a distribution. and The formula for calculating the z-score is : \n",
    "        z = (x - μ) / σ\n",
    "\n",
    "where x is the data point, μ is the mean, and σ is the standard deviation.\n",
    "\n",
    "It is important in standardizing and comparing observations from different datasets, identifying outliers, and calculating probability of an observation falling within a certain range of values."
   ]
  },
  {
   "cell_type": "markdown",
   "id": "93143b24-6add-468a-8c41-db37f2ea1e6a",
   "metadata": {},
   "source": [
    "<br>\n",
    "<br>\n",
    "\n",
    "### 9. What is Central Limit Theorem? State the significance of the Central Limit Theorem."
   ]
  },
  {
   "cell_type": "raw",
   "id": "65dee7d0-1494-4806-aaf7-0ace921a0987",
   "metadata": {},
   "source": [
    "The Central Limit Theorem states that if we take multiple samples of the same size from a population, the distribution of the sample means will approximate a normal distribution, even if the population distribution is not normal.\n",
    "\n",
    "It allows us to make assumptions or conclusion about the population mean and other parameters based on a sample of data, even when the population distribution is unknown or non-normal."
   ]
  },
  {
   "cell_type": "markdown",
   "id": "d7bfc0bd-942c-4eec-bbc9-ab1405aa3924",
   "metadata": {},
   "source": [
    "<br>\n",
    "<br>\n",
    "\n",
    "### 10. State the assumptions of the Central Limit Theorem."
   ]
  },
  {
   "cell_type": "raw",
   "id": "5eb114f8-5a61-4bba-aa67-231cfbe0a579",
   "metadata": {},
   "source": [
    "Assumptions of the Central Limit Theorem are :\n",
    "    1. The sample is randomly drawn from a population.\n",
    "    2. The sample size is sufficiently large, typically n ≥ 30.\n",
    "    3. The samples are independent of one another.\n",
    "    4. The population from which the samples are drawn may have any distribution, but the population variance must be finite."
   ]
  }
 ],
 "metadata": {
  "kernelspec": {
   "display_name": "Python 3 (ipykernel)",
   "language": "python",
   "name": "python3"
  },
  "language_info": {
   "codemirror_mode": {
    "name": "ipython",
    "version": 3
   },
   "file_extension": ".py",
   "mimetype": "text/x-python",
   "name": "python",
   "nbconvert_exporter": "python",
   "pygments_lexer": "ipython3",
   "version": "3.10.8"
  }
 },
 "nbformat": 4,
 "nbformat_minor": 5
}
