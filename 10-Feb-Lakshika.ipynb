{
 "cells": [
  {
   "cell_type": "code",
   "execution_count": 1,
   "id": "d18eb54b-d785-4c21-9848-369b03a712ea",
   "metadata": {},
   "outputs": [],
   "source": [
    "import logging\n",
    "logging.basicConfig(filename = 'logs.log', level = logging.INFO)"
   ]
  },
  {
   "cell_type": "markdown",
   "id": "b4e1cd11-ec0f-4225-b861-526ce9f1515b",
   "metadata": {},
   "source": [
    "### 1. Which function is used to open a file? What are the different modes of opening a file? Explain each mode of file opening."
   ]
  },
  {
   "cell_type": "raw",
   "id": "811ff52d-a942-452c-978b-86935502d0ad",
   "metadata": {},
   "source": [
    "open() is used to open a file in python. Different modes of opening a file are :"
   ]
  },
  {
   "cell_type": "raw",
   "id": "f7baff12-43cd-46b9-8b32-1baf8a03545e",
   "metadata": {},
   "source": [
    "'r' (read)       open the file for reading and its the default mode when you open a file\n",
    "'w' (write)      open the file for writing, truncating or flushing the file first\n",
    "'x'       creates a new file and open it for writing\n",
    "'a' (append)     open the file for writing, appending to the end of the file if it exists , it doesn't flush the file      before writing like 'w' mode\n",
    "'b' (binary)     opening a file in binary mode\n",
    "'t' (text)       opeing a file in text mode\n",
    "'+'              open a disk file for updating (reading and writing)"
   ]
  },
  {
   "cell_type": "markdown",
   "id": "c84bde4c-1a6f-4513-bbf8-d2ff9dd80de7",
   "metadata": {},
   "source": [
    "'syntax' =: filename_object = open(filepath,mode)"
   ]
  },
  {
   "cell_type": "markdown",
   "id": "c3329267-44de-4fb5-a5bb-9c5fb7021c90",
   "metadata": {},
   "source": [
    "<br>\n",
    "<br>\n",
    "\n",
    "### 2. Why close() function is used? Why is it important to close a file?"
   ]
  },
  {
   "cell_type": "raw",
   "id": "f4b9bbfc-0ed4-408d-83e9-9fea7f037214",
   "metadata": {},
   "source": [
    "close() function is used to close an open file. We should always close our file , because changes made to a file will not show until you close the file."
   ]
  },
  {
   "cell_type": "markdown",
   "id": "6dfbef1a-5fb8-46ce-a02e-664a8f7fc4d0",
   "metadata": {},
   "source": [
    "<br>\n",
    "<br>\n",
    "\n",
    "### 3. Write a python program to create a text file. Write ‘I want to become a Data Scientist’ in that file. Then close the file. Open this file and read the content of the file."
   ]
  },
  {
   "cell_type": "code",
   "execution_count": 2,
   "id": "db1539e5-2f28-4822-9cbb-77e438ad952d",
   "metadata": {},
   "outputs": [],
   "source": [
    "with open('test.txt', 'w') as f:\n",
    "    f.write('I want to become a Data Scientist')"
   ]
  },
  {
   "cell_type": "code",
   "execution_count": 3,
   "id": "e575130a-9b41-4450-8660-8289115528f5",
   "metadata": {},
   "outputs": [],
   "source": [
    "with open('test.txt', 'r') as f:\n",
    "    data = f.read()\n",
    "    logging.info(data)"
   ]
  },
  {
   "cell_type": "markdown",
   "id": "03cfb832-cb2c-4525-8732-b7f341a41487",
   "metadata": {},
   "source": [
    "<br>\n",
    "<br>\n",
    "\n",
    "### 4. Explain the following with python code: read(), readline() and readlines()."
   ]
  },
  {
   "cell_type": "code",
   "execution_count": 4,
   "id": "ca54cfde-c073-4baf-bd52-bd7955ab1860",
   "metadata": {},
   "outputs": [],
   "source": [
    "data = \"\"\"I want to become a Data Scientist.\\nI will become a Data Scientist.\\n \n",
    "I am a data scientist\"\"\"\n",
    "\n",
    "with open('test1.txt', 'w') as f:\n",
    "    f.write(data)"
   ]
  },
  {
   "cell_type": "code",
   "execution_count": 5,
   "id": "0e130f57-0b61-4d31-abb1-a75935476246",
   "metadata": {},
   "outputs": [
    {
     "name": "stdout",
     "output_type": "stream",
     "text": [
      "I want to become a Data Scientist.\n",
      "I will become a Data Scientist.\n",
      " \n",
      "I am a data scientist\n"
     ]
    }
   ],
   "source": [
    "# read, get all the data at once\n",
    "with open('test1.txt', 'r') as f:\n",
    "    print(f.read())"
   ]
  },
  {
   "cell_type": "code",
   "execution_count": 6,
   "id": "130e466e-2fad-4d13-9fb7-eae6abce17a3",
   "metadata": {},
   "outputs": [
    {
     "name": "stdout",
     "output_type": "stream",
     "text": [
      "I want to become a Data Scientist.\n",
      "\n"
     ]
    }
   ],
   "source": [
    "# readline, reads the data line by line\n",
    "with open('test1.txt', 'r') as f:\n",
    "    print(f.readline())"
   ]
  },
  {
   "cell_type": "code",
   "execution_count": 7,
   "id": "9f8815cf-d01b-4d8a-a887-382146c05f49",
   "metadata": {},
   "outputs": [
    {
     "name": "stdout",
     "output_type": "stream",
     "text": [
      "['I want to become a Data Scientist.\\n', 'I will become a Data Scientist.\\n', ' \\n', 'I am a data scientist']\n"
     ]
    }
   ],
   "source": [
    "# readlines, reads the data line by line just like readline but returns all the lines as a list\n",
    "with open('test1.txt', 'r') as f:\n",
    "    print(f.readlines())"
   ]
  },
  {
   "cell_type": "markdown",
   "id": "89f54edb-384c-4668-97e8-43ce922eb0e5",
   "metadata": {},
   "source": [
    "<br>\n",
    "<br>\n",
    "\n",
    "### 5. Explain why with statement is used with open(). What is the advantage of using with statement and open() together?"
   ]
  },
  {
   "cell_type": "raw",
   "id": "379ac0f2-328d-4e8c-ba73-366e933dd8a1",
   "metadata": {},
   "source": [
    "We use with statement with open() because open() doesn't automatically close the file once the read or write is done whereas 'with', gives the advantage of closing the file automatically once we are out of 'with' scope."
   ]
  },
  {
   "cell_type": "markdown",
   "id": "fcbaa3d4-cf9c-4417-b430-c955eed421fc",
   "metadata": {},
   "source": [
    "<br>\n",
    "<br>\n",
    "\n",
    "### 6. Explain the write() and writelines() functions. Give a suitable example."
   ]
  },
  {
   "cell_type": "raw",
   "id": "982ec0e5-bb34-4df3-9136-76596bfee1c6",
   "metadata": {},
   "source": [
    "write() only takes string as an argument whereas writelines() takes an iterable i.e a string or a list of strings."
   ]
  },
  {
   "cell_type": "code",
   "execution_count": 8,
   "id": "fca55059-9adf-496b-ae0b-a609d85f0296",
   "metadata": {},
   "outputs": [],
   "source": [
    "with open('test2.txt', 'w') as f:\n",
    "    f.write(data)"
   ]
  },
  {
   "cell_type": "code",
   "execution_count": 9,
   "id": "0b85c6b7-ef2a-47e2-9814-4abf695dbd6f",
   "metadata": {},
   "outputs": [],
   "source": [
    "lines = ['I want to become a Data Scientist.','I will become a Data Scientist.','I am a data scientist']\n",
    "with open('test3.txt', 'w') as f:\n",
    "    f.writelines(lines)"
   ]
  }
 ],
 "metadata": {
  "kernelspec": {
   "display_name": "Python 3 (ipykernel)",
   "language": "python",
   "name": "python3"
  },
  "language_info": {
   "codemirror_mode": {
    "name": "ipython",
    "version": 3
   },
   "file_extension": ".py",
   "mimetype": "text/x-python",
   "name": "python",
   "nbconvert_exporter": "python",
   "pygments_lexer": "ipython3",
   "version": "3.10.8"
  }
 },
 "nbformat": 4,
 "nbformat_minor": 5
}
