{
 "cells": [
  {
   "cell_type": "markdown",
   "id": "8f11a2af-2922-49fd-a2c8-d3c2312c41f7",
   "metadata": {},
   "source": [
    "### 1. What is Statistics?"
   ]
  },
  {
   "cell_type": "raw",
   "id": "8e88a4a3-b653-4526-a9ff-3e2faeca607a",
   "metadata": {},
   "source": [
    "Statistics is the science of collecting , organizing and analyzing data , where data is a facts or pieces of information.\n",
    "\n",
    "For example : Height of student in classromm , Blood-group of people in a district, Marks of a student etc."
   ]
  },
  {
   "cell_type": "markdown",
   "id": "19ca9e4d-6287-4e36-ad1b-16d57a6e71d8",
   "metadata": {},
   "source": [
    "<br>\n",
    "<br> \n",
    "\n",
    "### 2. Define the different types of statistics and give an example of when each type might be used."
   ]
  },
  {
   "cell_type": "raw",
   "id": "2fdb26aa-087c-46ea-9756-fff780acc0c8",
   "metadata": {},
   "source": [
    "There are two types of statistics :\n",
    "\n",
    "1. Descriptive Statistics : It is used when you want to organize and summarize data. \n",
    "\n",
    "For Example : mean , it is like we have 1000 data and we are finding the centre of that data in a single value , 1000 data got summarized.\n",
    "\n",
    "   \n",
    "2. Inferential Statistics : It is used when you have to get a conclusion from your data.\n",
    "\n",
    "For Example : You have a population data and a sample data. So what news portal do, To get understanding of which party will win in election they takes sample votes knowledge of people from different places and make a overall conclusion . So here sample of people are our sample data where the Populate of state is our population data.\n"
   ]
  },
  {
   "cell_type": "markdown",
   "id": "4485dcb7-e5f2-4b88-b1b1-00b90098196b",
   "metadata": {},
   "source": [
    "<br>\n",
    "<br> \n",
    "\n",
    "### 3. What are the different types of data and how do they differ from each other? Provide an example of each type of data."
   ]
  },
  {
   "cell_type": "raw",
   "id": "0184b0cc-a239-40c6-a6e2-a2991ab4b70e",
   "metadata": {},
   "source": [
    "There are two types of data :\n",
    "\n",
    "1. Quatitative : Numerical data comes into this category and it has two subtype:\n",
    "    i) Discret : Its mostly whole no. and consist of a specific range.\n",
    "        Example : No. of children in a family , No. of bank Account etc.\n",
    "   ii) Continuous : It can be any value.\n",
    "        Example : Weight , height , temparature , speed etc.\n",
    "   \n",
    "2. Qualitative : Categorical data comes into this category and it has two subtype:\n",
    "    i) Nominal : In this type of data rank or order doesn't matter.\n",
    "        Example : Pincode, Gender, BloodGroup\n",
    "   ii) Ordinal : In this type of data Rank matters\n",
    "        Example : Customer feedback (good,average,bad), grades"
   ]
  },
  {
   "cell_type": "markdown",
   "id": "33c5ac2b-34e6-4b72-b1cd-6dfcf4a706b0",
   "metadata": {},
   "source": [
    "<br>\n",
    "<br> \n",
    "\n",
    "### 4. Categorise the following datasets with respect to quantitative and qualitative data types:"
   ]
  },
  {
   "cell_type": "raw",
   "id": "e01fb93e-0035-476a-9ef9-60e781537678",
   "metadata": {},
   "source": [
    "(i) Grading in exam: A+, A, B+, B, C+, C, D, E \n",
    "       --> Qualitative\n",
    "       \n",
    "(ii) Colour of mangoes: yellow, green, orange, red\n",
    "       --> Qualitative\n",
    "       \n",
    "(iii) Height data of a class: [178.9, 179, 179.5, 176, 177.2, 178.3, 175.8,...]\n",
    "       --> Quantitative\n",
    "       \n",
    "(iv) Number of mangoes exported by a farm: [500, 600, 478, 672, ...]\n",
    "       --> Quantitative"
   ]
  },
  {
   "cell_type": "markdown",
   "id": "395f932c-e512-4cc7-acfc-f3ac0159c584",
   "metadata": {},
   "source": [
    "<br>\n",
    "<br> \n",
    "\n",
    "### 5. Explain the concept of levels of measurement and give an example of a variable for each level."
   ]
  },
  {
   "cell_type": "raw",
   "id": "d233b690-1f9f-490f-9087-a9f6fb0ae7c3",
   "metadata": {},
   "source": [
    "A dataset contains different different types of data , and every type of data has different scale of measurment like gender and customer feedback both are qualitative data but in gender order/rank doesn't matter whereas in customer feedback order/rank matters.\n",
    "\n",
    "There are 4 types of Scale of Measurement:\n",
    "\n",
    "1. Nominal Scale Data : It consist of qualitative or categorical data in which order doesn't matter. \n",
    "\n",
    "    Example : Gender, colors\n",
    "    \n",
    "2. Ordinal Scale Data : It consist of qualitative or categorical data in which ranking and order matters But In this difference can't be measured.\n",
    "\n",
    "    Example : Customer feedback (good,average,bad)\n",
    "    \n",
    "3. Interval Scale Data : Its a quantitative data in which order matters and difference can be calculated but ratio can't be calculated. It also doesn't have true '0' starting point.\n",
    "\n",
    "    Example : Temperature (0 is not a starting point for it temperature can below it as well )\n",
    "    \n",
    "4. Ratio Scale Data : Its a quantitaive data in which order matters , difference ratio can also be measured. It contains a '0' starting point.\n",
    "\n",
    "    Example : Students Marks (It can't go negative and 0 is the minimum)"
   ]
  },
  {
   "cell_type": "markdown",
   "id": "32c1ea91-b47e-4330-9e95-afcfece23174",
   "metadata": {},
   "source": [
    "<br>\n",
    "<br> \n",
    "\n",
    "### 6. Why is it important to understand the level of measurement when analyzing data? Provide an example to illustrate your answer."
   ]
  },
  {
   "cell_type": "raw",
   "id": "6dac044a-c238-40a3-84e9-a21799c23db5",
   "metadata": {},
   "source": [
    "Its important to understand the level of measurement when analyzing data because a dataset can contain different types of data , and every type of data has different scale of measurment like gender and customer feedback both are qualitative data but in gender(Male, Female, Other) order/rank doesn't matter whereas in customer feedback(good, average, best) order/rank matters."
   ]
  },
  {
   "cell_type": "markdown",
   "id": "b059de4c-e4bf-4ea9-bd4d-1dfbadd67f58",
   "metadata": {},
   "source": [
    "<br>\n",
    "<br> \n",
    "\n",
    "### 7. How nominal data type is different from ordinal data type."
   ]
  },
  {
   "cell_type": "raw",
   "id": "66384c6b-5e5f-4c7b-b379-ae139b90fcb5",
   "metadata": {},
   "source": [
    "In Nominal data ordering/rank doesn't matter whereas in ordinal rank/order matters.\n",
    "\n",
    "Example : Grade is Ordinal data type because there is an ordering in init (A,B,C,D,E,F) wheras Gender is Nominal data type , as there is no ordering (Male, Female, Other)"
   ]
  },
  {
   "cell_type": "markdown",
   "id": "79f2ed89-f324-4f2e-b800-0ef35b540a4b",
   "metadata": {},
   "source": [
    "<br>\n",
    "<br> \n",
    "\n",
    "### 8. Which type of plot can be used to display data in terms of range?"
   ]
  },
  {
   "cell_type": "raw",
   "id": "428cd4ae-d054-44dc-9bba-e4c63fca97eb",
   "metadata": {},
   "source": [
    "BoxPlot can be used to display data in terms of range."
   ]
  },
  {
   "cell_type": "markdown",
   "id": "bed5aa24-4f6c-42f2-85ba-82861e5b6140",
   "metadata": {},
   "source": [
    "<br>\n",
    "<br> \n",
    "\n",
    "### 9. Describe the difference between descriptive and inferential statistics. Give an example of each type of statistics and explain how they are used."
   ]
  },
  {
   "cell_type": "raw",
   "id": "e97c57ab-f252-400a-bc6a-a1c1832c84e5",
   "metadata": {},
   "source": [
    "Descriptive Statistics means organizing and summarizing data whereas Inferential Statistics means to give a conclusion from the data you have.\n",
    "\n",
    "For Example : In Descriptive statisctics Assume we have 1000 data and we are finding the centre of that data in a single value , 1000 data got summarized. whereas In inferential statistics, you have a population data and a sample data. So what news portal do, To get understanding of which party will win in election they takes sample votes knowledge of people from different places and make a overall conclusion . So here sample of people are our sample data where the Populate of state is our population data.\n",
    "\n",
    "\n",
    "\n",
    "Measurement Comes under Descriptive Statistics are : \n",
    "    mean, median, mode, variance ,standard deviation, histogram etc.\n",
    "\n",
    "Testing Comes under Inferential Statistics are :\n",
    "    z-test, t-test, chi square etc."
   ]
  },
  {
   "cell_type": "markdown",
   "id": "ae717b27-6a6e-48ff-9fc1-203bcf4e029c",
   "metadata": {},
   "source": [
    "<br>\n",
    "<br> \n",
    "\n",
    "### 10. What are some common measures of central tendency and variability used in statistics? Explain how each measure can be used to describe a dataset."
   ]
  },
  {
   "cell_type": "raw",
   "id": "f03dada4-7230-4324-aff6-7c3c168cf686",
   "metadata": {},
   "source": [
    "Common measures of Central tendency are : using this central region is identified.\n",
    "    i) mean : to find the average or central region of a column.\n",
    "   ii) median : to find the centre element of a column. and mostly used for handling outliers.\n",
    "  iii) mode : returns the most frequent data in the column.\n",
    "  \n",
    "Common measures of variability are :\n",
    "    i) standard deviation : it calculates the average distance from the mean.\n",
    "   ii) variance : it calculates the average of squared distances from the mean."
   ]
  }
 ],
 "metadata": {
  "kernelspec": {
   "display_name": "Python 3 (ipykernel)",
   "language": "python",
   "name": "python3"
  },
  "language_info": {
   "codemirror_mode": {
    "name": "ipython",
    "version": 3
   },
   "file_extension": ".py",
   "mimetype": "text/x-python",
   "name": "python",
   "nbconvert_exporter": "python",
   "pygments_lexer": "ipython3",
   "version": "3.10.8"
  }
 },
 "nbformat": 4,
 "nbformat_minor": 5
}
